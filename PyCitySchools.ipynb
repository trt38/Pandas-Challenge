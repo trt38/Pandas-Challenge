{
  "nbformat": 4,
  "nbformat_minor": 0,
  "metadata": {
    "colab": {
      "name": "PyCitySchools.ipynb",
      "provenance": [],
      "collapsed_sections": [],
      "authorship_tag": "ABX9TyOAirQR8hgwasgZJ9ZnxHdy",
      "include_colab_link": true
    },
    "kernelspec": {
      "name": "python3",
      "display_name": "Python 3"
    }
  },
  "cells": [
    {
      "cell_type": "markdown",
      "metadata": {
        "id": "view-in-github",
        "colab_type": "text"
      },
      "source": [
        "<a href=\"https://colab.research.google.com/github/trt38/Pandas-Challenge/blob/master/PyCitySchools.ipynb\" target=\"_parent\"><img src=\"https://colab.research.google.com/assets/colab-badge.svg\" alt=\"Open In Colab\"/></a>"
      ]
    },
    {
      "cell_type": "markdown",
      "metadata": {
        "id": "5wp4b7llEqjD",
        "colab_type": "text"
      },
      "source": [
        "## **Setup**"
      ]
    },
    {
      "cell_type": "code",
      "metadata": {
        "id": "LS0mGYCWDKjl",
        "colab_type": "code",
        "colab": {}
      },
      "source": [
        "# Dependencies and Setup\n",
        "import pandas as pd"
      ],
      "execution_count": 1,
      "outputs": []
    },
    {
      "cell_type": "code",
      "metadata": {
        "id": "4ueJl24CDNLg",
        "colab_type": "code",
        "colab": {}
      },
      "source": [
        "# File to Load (Remember to Change These)\n",
        "school_data_to_load = \"/Resources/schools_complete.csv\"\n",
        "student_data_to_load = \"/Resources/students_complete.csv\""
      ],
      "execution_count": 6,
      "outputs": []
    },
    {
      "cell_type": "code",
      "metadata": {
        "id": "a6bmq3NFDPu0",
        "colab_type": "code",
        "colab": {}
      },
      "source": [
        "# Read School and Student Data File and store into Pandas DataFrames\n",
        "school_data = pd.read_csv(school_data_to_load)\n",
        "student_data = pd.read_csv(student_data_to_load)"
      ],
      "execution_count": 7,
      "outputs": []
    },
    {
      "cell_type": "code",
      "metadata": {
        "id": "YlM2OcAyDSBs",
        "colab_type": "code",
        "colab": {}
      },
      "source": [
        "# Combine the data into a single dataset.  \n",
        "school_data_complete = pd.merge(student_data, school_data, how=\"left\", on=[\"school_name\", \"school_name\"])"
      ],
      "execution_count": 8,
      "outputs": []
    },
    {
      "cell_type": "code",
      "metadata": {
        "id": "M-6yHN10D8Z4",
        "colab_type": "code",
        "colab": {
          "base_uri": "https://localhost:8080/",
          "height": 204
        },
        "outputId": "5d38f6a7-71bb-4c3f-e99c-ac12f0860dd1"
      },
      "source": [
        "#Display dataset\n",
        "school_data_complete.head()"
      ],
      "execution_count": 9,
      "outputs": [
        {
          "output_type": "execute_result",
          "data": {
            "text/html": [
              "<div>\n",
              "<style scoped>\n",
              "    .dataframe tbody tr th:only-of-type {\n",
              "        vertical-align: middle;\n",
              "    }\n",
              "\n",
              "    .dataframe tbody tr th {\n",
              "        vertical-align: top;\n",
              "    }\n",
              "\n",
              "    .dataframe thead th {\n",
              "        text-align: right;\n",
              "    }\n",
              "</style>\n",
              "<table border=\"1\" class=\"dataframe\">\n",
              "  <thead>\n",
              "    <tr style=\"text-align: right;\">\n",
              "      <th></th>\n",
              "      <th>Student ID</th>\n",
              "      <th>student_name</th>\n",
              "      <th>gender</th>\n",
              "      <th>grade</th>\n",
              "      <th>school_name</th>\n",
              "      <th>reading_score</th>\n",
              "      <th>math_score</th>\n",
              "      <th>School ID</th>\n",
              "      <th>type</th>\n",
              "      <th>size</th>\n",
              "      <th>budget</th>\n",
              "    </tr>\n",
              "  </thead>\n",
              "  <tbody>\n",
              "    <tr>\n",
              "      <th>0</th>\n",
              "      <td>0</td>\n",
              "      <td>Paul Bradley</td>\n",
              "      <td>M</td>\n",
              "      <td>9th</td>\n",
              "      <td>Huang High School</td>\n",
              "      <td>66</td>\n",
              "      <td>79</td>\n",
              "      <td>0</td>\n",
              "      <td>District</td>\n",
              "      <td>2917</td>\n",
              "      <td>1910635</td>\n",
              "    </tr>\n",
              "    <tr>\n",
              "      <th>1</th>\n",
              "      <td>1</td>\n",
              "      <td>Victor Smith</td>\n",
              "      <td>M</td>\n",
              "      <td>12th</td>\n",
              "      <td>Huang High School</td>\n",
              "      <td>94</td>\n",
              "      <td>61</td>\n",
              "      <td>0</td>\n",
              "      <td>District</td>\n",
              "      <td>2917</td>\n",
              "      <td>1910635</td>\n",
              "    </tr>\n",
              "    <tr>\n",
              "      <th>2</th>\n",
              "      <td>2</td>\n",
              "      <td>Kevin Rodriguez</td>\n",
              "      <td>M</td>\n",
              "      <td>12th</td>\n",
              "      <td>Huang High School</td>\n",
              "      <td>90</td>\n",
              "      <td>60</td>\n",
              "      <td>0</td>\n",
              "      <td>District</td>\n",
              "      <td>2917</td>\n",
              "      <td>1910635</td>\n",
              "    </tr>\n",
              "    <tr>\n",
              "      <th>3</th>\n",
              "      <td>3</td>\n",
              "      <td>Dr. Richard Scott</td>\n",
              "      <td>M</td>\n",
              "      <td>12th</td>\n",
              "      <td>Huang High School</td>\n",
              "      <td>67</td>\n",
              "      <td>58</td>\n",
              "      <td>0</td>\n",
              "      <td>District</td>\n",
              "      <td>2917</td>\n",
              "      <td>1910635</td>\n",
              "    </tr>\n",
              "    <tr>\n",
              "      <th>4</th>\n",
              "      <td>4</td>\n",
              "      <td>Bonnie Ray</td>\n",
              "      <td>F</td>\n",
              "      <td>9th</td>\n",
              "      <td>Huang High School</td>\n",
              "      <td>97</td>\n",
              "      <td>84</td>\n",
              "      <td>0</td>\n",
              "      <td>District</td>\n",
              "      <td>2917</td>\n",
              "      <td>1910635</td>\n",
              "    </tr>\n",
              "  </tbody>\n",
              "</table>\n",
              "</div>"
            ],
            "text/plain": [
              "   Student ID       student_name gender  ...      type  size   budget\n",
              "0           0       Paul Bradley      M  ...  District  2917  1910635\n",
              "1           1       Victor Smith      M  ...  District  2917  1910635\n",
              "2           2    Kevin Rodriguez      M  ...  District  2917  1910635\n",
              "3           3  Dr. Richard Scott      M  ...  District  2917  1910635\n",
              "4           4         Bonnie Ray      F  ...  District  2917  1910635\n",
              "\n",
              "[5 rows x 11 columns]"
            ]
          },
          "metadata": {
            "tags": []
          },
          "execution_count": 9
        }
      ]
    },
    {
      "cell_type": "code",
      "metadata": {
        "id": "pY_9hVLmGIXi",
        "colab_type": "code",
        "colab": {
          "base_uri": "https://localhost:8080/",
          "height": 68
        },
        "outputId": "a91e4832-f26e-4d20-a8dc-9d45d82f7de9"
      },
      "source": [
        "#Display columns\n",
        "school_data_complete.columns"
      ],
      "execution_count": 17,
      "outputs": [
        {
          "output_type": "execute_result",
          "data": {
            "text/plain": [
              "Index(['Student ID', 'student_name', 'gender', 'grade', 'school_name',\n",
              "       'reading_score', 'math_score', 'School ID', 'type', 'size', 'budget'],\n",
              "      dtype='object')"
            ]
          },
          "metadata": {
            "tags": []
          },
          "execution_count": 17
        }
      ]
    },
    {
      "cell_type": "code",
      "metadata": {
        "id": "GpbHsh0eYGQw",
        "colab_type": "code",
        "colab": {}
      },
      "source": [
        ""
      ],
      "execution_count": null,
      "outputs": []
    },
    {
      "cell_type": "markdown",
      "metadata": {
        "id": "besmLnWyEZ0o",
        "colab_type": "text"
      },
      "source": [
        "## **District Summary**\n",
        "\n",
        "* Calculate the total number of schools\n",
        "* Calculate the total number of students\n",
        "* Calculate the total budget\n",
        "* Calculate the average math score \n",
        "* Calculate the average reading score\n",
        "* Calculate the percentage of students with a passing math score (70 or greater)\n",
        "* Calculate the percentage of students with a passing reading score (70 or greater)\n",
        "* Calculate the percentage of students who passed math and reading (% Overall Passing)\n",
        "* Create a dataframe to hold the above results\n",
        "* Optional: give the displayed data cleaner formatting"
      ]
    },
    {
      "cell_type": "code",
      "metadata": {
        "id": "I_4EWTSxEKfk",
        "colab_type": "code",
        "colab": {
          "base_uri": "https://localhost:8080/",
          "height": 34
        },
        "outputId": "2e0c237f-ca84-44e8-a8f4-bfe67494dee4"
      },
      "source": [
        "#Calculate the total number of schools\n",
        "total_schools = len(school_data_complete[\"School ID\"].unique())\n",
        "total_schools"
      ],
      "execution_count": 214,
      "outputs": [
        {
          "output_type": "execute_result",
          "data": {
            "text/plain": [
              "15"
            ]
          },
          "metadata": {
            "tags": []
          },
          "execution_count": 214
        }
      ]
    },
    {
      "cell_type": "code",
      "metadata": {
        "id": "0LLKOihRElOE",
        "colab_type": "code",
        "colab": {
          "base_uri": "https://localhost:8080/",
          "height": 34
        },
        "outputId": "1538368a-f325-4d04-f13f-680728a3c440"
      },
      "source": [
        "#Calculate the total number of students\n",
        "total_students = len(school_data_complete[\"Student ID\"].unique())\n",
        "total_students"
      ],
      "execution_count": 215,
      "outputs": [
        {
          "output_type": "execute_result",
          "data": {
            "text/plain": [
              "39170"
            ]
          },
          "metadata": {
            "tags": []
          },
          "execution_count": 215
        }
      ]
    },
    {
      "cell_type": "code",
      "metadata": {
        "id": "BWj2Ixh1ETRk",
        "colab_type": "code",
        "colab": {
          "base_uri": "https://localhost:8080/",
          "height": 34
        },
        "outputId": "562113a9-5e44-4441-f16d-81a1d45bca65"
      },
      "source": [
        "#Calculate the total budget\n",
        "total_budget = school_data[\"budget\"].sum()\n",
        "total_budget"
      ],
      "execution_count": 216,
      "outputs": [
        {
          "output_type": "execute_result",
          "data": {
            "text/plain": [
              "24649428"
            ]
          },
          "metadata": {
            "tags": []
          },
          "execution_count": 216
        }
      ]
    },
    {
      "cell_type": "code",
      "metadata": {
        "id": "NKkd7Xv9Fn3-",
        "colab_type": "code",
        "colab": {
          "base_uri": "https://localhost:8080/",
          "height": 34
        },
        "outputId": "1057c663-5d70-42ad-b45e-1a07c6d4ac59"
      },
      "source": [
        "#Calculate the average math score\n",
        "math_avg = round(student_data[\"math_score\"].mean(),2)\n",
        "math_avg"
      ],
      "execution_count": 217,
      "outputs": [
        {
          "output_type": "execute_result",
          "data": {
            "text/plain": [
              "78.99"
            ]
          },
          "metadata": {
            "tags": []
          },
          "execution_count": 217
        }
      ]
    },
    {
      "cell_type": "code",
      "metadata": {
        "id": "U-Ohg85FF02b",
        "colab_type": "code",
        "colab": {
          "base_uri": "https://localhost:8080/",
          "height": 34
        },
        "outputId": "17f0bd6a-bbc0-4c01-d100-70a8822afb08"
      },
      "source": [
        "#Calculate the average reading score\n",
        "read_avg = round(student_data[\"reading_score\"].mean(), 2)\n",
        "read_avg"
      ],
      "execution_count": 218,
      "outputs": [
        {
          "output_type": "execute_result",
          "data": {
            "text/plain": [
              "81.88"
            ]
          },
          "metadata": {
            "tags": []
          },
          "execution_count": 218
        }
      ]
    },
    {
      "cell_type": "code",
      "metadata": {
        "id": "RblkyqIQGRrz",
        "colab_type": "code",
        "colab": {
          "base_uri": "https://localhost:8080/",
          "height": 34
        },
        "outputId": "b872c89c-3d08-4582-f139-c0682a1a5dac"
      },
      "source": [
        "#Calculate the percentage of students with a passing math score (70 or greater)\n",
        "passing_math = len(school_data_complete.loc[school_data_complete[\"math_score\"] >= 70, :])\n",
        "passing_mperc = round((passing_math / total_students) * 100, 2)\n",
        "passing_mperc"
      ],
      "execution_count": 219,
      "outputs": [
        {
          "output_type": "execute_result",
          "data": {
            "text/plain": [
              "74.98"
            ]
          },
          "metadata": {
            "tags": []
          },
          "execution_count": 219
        }
      ]
    },
    {
      "cell_type": "code",
      "metadata": {
        "id": "mA-cpFK_HIMf",
        "colab_type": "code",
        "colab": {
          "base_uri": "https://localhost:8080/",
          "height": 34
        },
        "outputId": "e33475c5-0c30-4583-af11-c6c97bc0a643"
      },
      "source": [
        "#Calculate the percentage of students with a passing reading score (70 or greater)\n",
        "passing_read = len(school_data_complete.loc[school_data_complete[\"reading_score\"] >= 70, :])\n",
        "passing_rperc = round((passing_read / total_students) * 100,2)\n",
        "passing_rperc"
      ],
      "execution_count": 220,
      "outputs": [
        {
          "output_type": "execute_result",
          "data": {
            "text/plain": [
              "85.81"
            ]
          },
          "metadata": {
            "tags": []
          },
          "execution_count": 220
        }
      ]
    },
    {
      "cell_type": "code",
      "metadata": {
        "id": "JjQOf61PISsG",
        "colab_type": "code",
        "colab": {
          "base_uri": "https://localhost:8080/",
          "height": 34
        },
        "outputId": "7ea9949a-5cac-489c-ed1b-d81a3cd082d6"
      },
      "source": [
        "#Calculate the percentage of students who passed math and reading (% Overall Passing)\n",
        "passing_both = len(school_data_complete.loc[(school_data_complete[\"reading_score\"] >= 70) & (school_data_complete[\"math_score\"] >= 70), :])\n",
        "passing_bperc = round((passing_both / total_students) * 100,2)\n",
        "passing_bperc"
      ],
      "execution_count": 221,
      "outputs": [
        {
          "output_type": "execute_result",
          "data": {
            "text/plain": [
              "65.17"
            ]
          },
          "metadata": {
            "tags": []
          },
          "execution_count": 221
        }
      ]
    },
    {
      "cell_type": "code",
      "metadata": {
        "id": "iBbWjz8lJFup",
        "colab_type": "code",
        "colab": {
          "base_uri": "https://localhost:8080/",
          "height": 97
        },
        "outputId": "97626762-cfce-44dd-a27e-94c9ef067300"
      },
      "source": [
        "#Create a dataframe to hold the above results\n",
        "dist_summary = pd.DataFrame({\"Total Schools\": [total_schools],\n",
        "                              \"Total Students\": [total_students],\n",
        "                              \"Total Budget\": [total_budget],\n",
        "                              \"Average Math Score\": [math_avg],\n",
        "                              \"Average Reading Score\": [read_avg],\n",
        "                              \"% Passing Math\": [passing_mperc],\n",
        "                              \"% Passing Reading\": [passing_rperc],\n",
        "                              \"% Overall Passing Rate\": [passing_bperc]})\n",
        "\n",
        "dist_summary.head()"
      ],
      "execution_count": 222,
      "outputs": [
        {
          "output_type": "execute_result",
          "data": {
            "text/html": [
              "<div>\n",
              "<style scoped>\n",
              "    .dataframe tbody tr th:only-of-type {\n",
              "        vertical-align: middle;\n",
              "    }\n",
              "\n",
              "    .dataframe tbody tr th {\n",
              "        vertical-align: top;\n",
              "    }\n",
              "\n",
              "    .dataframe thead th {\n",
              "        text-align: right;\n",
              "    }\n",
              "</style>\n",
              "<table border=\"1\" class=\"dataframe\">\n",
              "  <thead>\n",
              "    <tr style=\"text-align: right;\">\n",
              "      <th></th>\n",
              "      <th>Total Schools</th>\n",
              "      <th>Total Students</th>\n",
              "      <th>Total Budget</th>\n",
              "      <th>Average Math Score</th>\n",
              "      <th>Average Reading Score</th>\n",
              "      <th>% Passing Math</th>\n",
              "      <th>% Passing Reading</th>\n",
              "      <th>% Overall Passing Rate</th>\n",
              "    </tr>\n",
              "  </thead>\n",
              "  <tbody>\n",
              "    <tr>\n",
              "      <th>0</th>\n",
              "      <td>15</td>\n",
              "      <td>39170</td>\n",
              "      <td>24649428</td>\n",
              "      <td>78.99</td>\n",
              "      <td>81.88</td>\n",
              "      <td>74.98</td>\n",
              "      <td>85.81</td>\n",
              "      <td>65.17</td>\n",
              "    </tr>\n",
              "  </tbody>\n",
              "</table>\n",
              "</div>"
            ],
            "text/plain": [
              "   Total Schools  Total Students  ...  % Passing Reading  % Overall Passing Rate\n",
              "0             15           39170  ...              85.81                   65.17\n",
              "\n",
              "[1 rows x 8 columns]"
            ]
          },
          "metadata": {
            "tags": []
          },
          "execution_count": 222
        }
      ]
    },
    {
      "cell_type": "markdown",
      "metadata": {
        "id": "ZJ0i75d-MhIa",
        "colab_type": "text"
      },
      "source": [
        "## **School Summary**\n",
        "\n",
        "Create an overview table that summarizes key metrics about each school, including:\n",
        "\n",
        "* School Name\n",
        "* School Type\n",
        "* Total Students\n",
        "* Total School Budget\n",
        "* Per Student Budget\n",
        "* Average Math Score\n",
        "* Average Reading Score\n",
        "* % Passing Math\n",
        "* % Passing Reading\n",
        "* % Overall Passing (The percentage of students that passed math and reading.)\n",
        "\n",
        "Create a dataframe to hold the above results\n",
        "\n",
        "\n",
        "\n",
        "\n"
      ]
    },
    {
      "cell_type": "code",
      "metadata": {
        "id": "qLoWUdFWYVds",
        "colab_type": "code",
        "colab": {
          "base_uri": "https://localhost:8080/",
          "height": 68
        },
        "outputId": "f9acb9d4-6ddf-4c51-87e9-cb5eb56c1571"
      },
      "source": [
        "school_data_complete.columns"
      ],
      "execution_count": 259,
      "outputs": [
        {
          "output_type": "execute_result",
          "data": {
            "text/plain": [
              "Index(['Student ID', 'student_name', 'gender', 'grade', 'school_name',\n",
              "       'reading_score', 'math_score', 'School ID', 'type', 'size', 'budget'],\n",
              "      dtype='object')"
            ]
          },
          "metadata": {
            "tags": []
          },
          "execution_count": 259
        }
      ]
    },
    {
      "cell_type": "code",
      "metadata": {
        "id": "fVaBsate8wdw",
        "colab_type": "code",
        "colab": {
          "base_uri": "https://localhost:8080/",
          "height": 235
        },
        "outputId": "304cdbc8-438c-4403-f161-2e5d126db650"
      },
      "source": [
        "#Create groupby by school name\n",
        "data_by_school = school_data_complete.groupby([\"school_name\"])\n",
        "\n",
        "data_by_school.count().head()"
      ],
      "execution_count": 260,
      "outputs": [
        {
          "output_type": "execute_result",
          "data": {
            "text/html": [
              "<div>\n",
              "<style scoped>\n",
              "    .dataframe tbody tr th:only-of-type {\n",
              "        vertical-align: middle;\n",
              "    }\n",
              "\n",
              "    .dataframe tbody tr th {\n",
              "        vertical-align: top;\n",
              "    }\n",
              "\n",
              "    .dataframe thead th {\n",
              "        text-align: right;\n",
              "    }\n",
              "</style>\n",
              "<table border=\"1\" class=\"dataframe\">\n",
              "  <thead>\n",
              "    <tr style=\"text-align: right;\">\n",
              "      <th></th>\n",
              "      <th>Student ID</th>\n",
              "      <th>student_name</th>\n",
              "      <th>gender</th>\n",
              "      <th>grade</th>\n",
              "      <th>reading_score</th>\n",
              "      <th>math_score</th>\n",
              "      <th>School ID</th>\n",
              "      <th>type</th>\n",
              "      <th>size</th>\n",
              "      <th>budget</th>\n",
              "    </tr>\n",
              "    <tr>\n",
              "      <th>school_name</th>\n",
              "      <th></th>\n",
              "      <th></th>\n",
              "      <th></th>\n",
              "      <th></th>\n",
              "      <th></th>\n",
              "      <th></th>\n",
              "      <th></th>\n",
              "      <th></th>\n",
              "      <th></th>\n",
              "      <th></th>\n",
              "    </tr>\n",
              "  </thead>\n",
              "  <tbody>\n",
              "    <tr>\n",
              "      <th>Bailey High School</th>\n",
              "      <td>4976</td>\n",
              "      <td>4976</td>\n",
              "      <td>4976</td>\n",
              "      <td>4976</td>\n",
              "      <td>4976</td>\n",
              "      <td>4976</td>\n",
              "      <td>4976</td>\n",
              "      <td>4976</td>\n",
              "      <td>4976</td>\n",
              "      <td>4976</td>\n",
              "    </tr>\n",
              "    <tr>\n",
              "      <th>Cabrera High School</th>\n",
              "      <td>1858</td>\n",
              "      <td>1858</td>\n",
              "      <td>1858</td>\n",
              "      <td>1858</td>\n",
              "      <td>1858</td>\n",
              "      <td>1858</td>\n",
              "      <td>1858</td>\n",
              "      <td>1858</td>\n",
              "      <td>1858</td>\n",
              "      <td>1858</td>\n",
              "    </tr>\n",
              "    <tr>\n",
              "      <th>Figueroa High School</th>\n",
              "      <td>2949</td>\n",
              "      <td>2949</td>\n",
              "      <td>2949</td>\n",
              "      <td>2949</td>\n",
              "      <td>2949</td>\n",
              "      <td>2949</td>\n",
              "      <td>2949</td>\n",
              "      <td>2949</td>\n",
              "      <td>2949</td>\n",
              "      <td>2949</td>\n",
              "    </tr>\n",
              "    <tr>\n",
              "      <th>Ford High School</th>\n",
              "      <td>2739</td>\n",
              "      <td>2739</td>\n",
              "      <td>2739</td>\n",
              "      <td>2739</td>\n",
              "      <td>2739</td>\n",
              "      <td>2739</td>\n",
              "      <td>2739</td>\n",
              "      <td>2739</td>\n",
              "      <td>2739</td>\n",
              "      <td>2739</td>\n",
              "    </tr>\n",
              "    <tr>\n",
              "      <th>Griffin High School</th>\n",
              "      <td>1468</td>\n",
              "      <td>1468</td>\n",
              "      <td>1468</td>\n",
              "      <td>1468</td>\n",
              "      <td>1468</td>\n",
              "      <td>1468</td>\n",
              "      <td>1468</td>\n",
              "      <td>1468</td>\n",
              "      <td>1468</td>\n",
              "      <td>1468</td>\n",
              "    </tr>\n",
              "  </tbody>\n",
              "</table>\n",
              "</div>"
            ],
            "text/plain": [
              "                      Student ID  student_name  gender  ...  type  size  budget\n",
              "school_name                                             ...                    \n",
              "Bailey High School          4976          4976    4976  ...  4976  4976    4976\n",
              "Cabrera High School         1858          1858    1858  ...  1858  1858    1858\n",
              "Figueroa High School        2949          2949    2949  ...  2949  2949    2949\n",
              "Ford High School            2739          2739    2739  ...  2739  2739    2739\n",
              "Griffin High School         1468          1468    1468  ...  1468  1468    1468\n",
              "\n",
              "[5 rows x 10 columns]"
            ]
          },
          "metadata": {
            "tags": []
          },
          "execution_count": 260
        }
      ]
    },
    {
      "cell_type": "code",
      "metadata": {
        "id": "z9FzotNw0Vhd",
        "colab_type": "code",
        "colab": {}
      },
      "source": [
        "#Variable for passing math\n",
        "math_pass = school_data_complete.loc[school_data_complete['math_score']>=70].groupby([\"school_name\"]).size()"
      ],
      "execution_count": 261,
      "outputs": []
    },
    {
      "cell_type": "code",
      "metadata": {
        "id": "t9Wa4UXd3be_",
        "colab_type": "code",
        "colab": {}
      },
      "source": [
        "#Variable for passing reading\n",
        "read_pass = school_data_complete.loc[school_data_complete['reading_score']>=70].groupby([\"school_name\"]).size()"
      ],
      "execution_count": 262,
      "outputs": []
    },
    {
      "cell_type": "code",
      "metadata": {
        "id": "QZ9bChY94Hb_",
        "colab_type": "code",
        "colab": {}
      },
      "source": [
        "#Variable for passing both\n",
        "both_pass = school_data_complete.loc[(school_data_complete[\"reading_score\"] >= 70) & (school_data_complete[\"math_score\"] >= 70)].groupby([\"school_name\"]).size()"
      ],
      "execution_count": 263,
      "outputs": []
    },
    {
      "cell_type": "code",
      "metadata": {
        "id": "6Zr2ageSxZqH",
        "colab_type": "code",
        "colab": {}
      },
      "source": [
        "#Create dataframe to hold new columns\n",
        "school_df = pd.DataFrame(school_data_complete[\"school_name\"].value_counts())"
      ],
      "execution_count": 264,
      "outputs": []
    },
    {
      "cell_type": "code",
      "metadata": {
        "id": "_33VFSTLZKlw",
        "colab_type": "code",
        "colab": {
          "base_uri": "https://localhost:8080/",
          "height": 323
        },
        "outputId": "6e78f2e2-b8c3-4084-db65-9ca1d6a86847"
      },
      "source": [
        "#create columns for key metrics\n",
        "school_df[\"School Type\"] = data_by_school[\"type\"].first()\n",
        "school_df[\"Total Students\"] = data_by_school[\"Student ID\"].count()\n",
        "school_df[\"Total School Budget\"] = data_by_school[\"budget\"].mean().map('${:,.2f}'.format)\n",
        "school_df[\"Per Student Budget\"] = (data_by_school[\"budget\"].mean() / data_by_school[\"Student ID\"].count()).map('${:,.2f}'.format)\n",
        "school_df[\"Average Math Score\"] = round(data_by_school[\"math_score\"].mean(),2)\n",
        "school_df[\"Average Reading Score\"] = round(data_by_school[\"reading_score\"].mean(),2)\n",
        "school_df[\"% Passing Math\"] = round((math_pass/data_by_school[\"Student ID\"].count())*100,2)\n",
        "school_df[\"% Passing Reading\"] = round((read_pass/data_by_school[\"Student ID\"].count())*100,2)\n",
        "school_df[\"% Overall Passing\"] = round((both_pass/data_by_school[\"Student ID\"].count())*100,2)\n",
        "\n",
        "\n",
        "school_df.head()"
      ],
      "execution_count": 265,
      "outputs": [
        {
          "output_type": "execute_result",
          "data": {
            "text/html": [
              "<div>\n",
              "<style scoped>\n",
              "    .dataframe tbody tr th:only-of-type {\n",
              "        vertical-align: middle;\n",
              "    }\n",
              "\n",
              "    .dataframe tbody tr th {\n",
              "        vertical-align: top;\n",
              "    }\n",
              "\n",
              "    .dataframe thead th {\n",
              "        text-align: right;\n",
              "    }\n",
              "</style>\n",
              "<table border=\"1\" class=\"dataframe\">\n",
              "  <thead>\n",
              "    <tr style=\"text-align: right;\">\n",
              "      <th></th>\n",
              "      <th>school_name</th>\n",
              "      <th>School Type</th>\n",
              "      <th>Total Students</th>\n",
              "      <th>Total School Budget</th>\n",
              "      <th>Per Student Budget</th>\n",
              "      <th>Average Math Score</th>\n",
              "      <th>Average Reading Score</th>\n",
              "      <th>% Passing Math</th>\n",
              "      <th>% Passing Reading</th>\n",
              "      <th>% Overall Passing</th>\n",
              "    </tr>\n",
              "  </thead>\n",
              "  <tbody>\n",
              "    <tr>\n",
              "      <th>Bailey High School</th>\n",
              "      <td>4976</td>\n",
              "      <td>District</td>\n",
              "      <td>4976</td>\n",
              "      <td>$3,124,928.00</td>\n",
              "      <td>$628.00</td>\n",
              "      <td>77.05</td>\n",
              "      <td>81.03</td>\n",
              "      <td>66.68</td>\n",
              "      <td>81.93</td>\n",
              "      <td>54.64</td>\n",
              "    </tr>\n",
              "    <tr>\n",
              "      <th>Johnson High School</th>\n",
              "      <td>4761</td>\n",
              "      <td>District</td>\n",
              "      <td>4761</td>\n",
              "      <td>$3,094,650.00</td>\n",
              "      <td>$650.00</td>\n",
              "      <td>77.07</td>\n",
              "      <td>80.97</td>\n",
              "      <td>66.06</td>\n",
              "      <td>81.22</td>\n",
              "      <td>53.54</td>\n",
              "    </tr>\n",
              "    <tr>\n",
              "      <th>Hernandez High School</th>\n",
              "      <td>4635</td>\n",
              "      <td>District</td>\n",
              "      <td>4635</td>\n",
              "      <td>$3,022,020.00</td>\n",
              "      <td>$652.00</td>\n",
              "      <td>77.29</td>\n",
              "      <td>80.93</td>\n",
              "      <td>66.75</td>\n",
              "      <td>80.86</td>\n",
              "      <td>53.53</td>\n",
              "    </tr>\n",
              "    <tr>\n",
              "      <th>Rodriguez High School</th>\n",
              "      <td>3999</td>\n",
              "      <td>District</td>\n",
              "      <td>3999</td>\n",
              "      <td>$2,547,363.00</td>\n",
              "      <td>$637.00</td>\n",
              "      <td>76.84</td>\n",
              "      <td>80.74</td>\n",
              "      <td>66.37</td>\n",
              "      <td>80.22</td>\n",
              "      <td>52.99</td>\n",
              "    </tr>\n",
              "    <tr>\n",
              "      <th>Figueroa High School</th>\n",
              "      <td>2949</td>\n",
              "      <td>District</td>\n",
              "      <td>2949</td>\n",
              "      <td>$1,884,411.00</td>\n",
              "      <td>$639.00</td>\n",
              "      <td>76.71</td>\n",
              "      <td>81.16</td>\n",
              "      <td>65.99</td>\n",
              "      <td>80.74</td>\n",
              "      <td>53.20</td>\n",
              "    </tr>\n",
              "  </tbody>\n",
              "</table>\n",
              "</div>"
            ],
            "text/plain": [
              "                       school_name  ... % Overall Passing\n",
              "Bailey High School            4976  ...             54.64\n",
              "Johnson High School           4761  ...             53.54\n",
              "Hernandez High School         4635  ...             53.53\n",
              "Rodriguez High School         3999  ...             52.99\n",
              "Figueroa High School          2949  ...             53.20\n",
              "\n",
              "[5 rows x 10 columns]"
            ]
          },
          "metadata": {
            "tags": []
          },
          "execution_count": 265
        }
      ]
    },
    {
      "cell_type": "code",
      "metadata": {
        "id": "LUXEX6QirVa3",
        "colab_type": "code",
        "colab": {
          "base_uri": "https://localhost:8080/",
          "height": 306
        },
        "outputId": "e0cd4be4-d915-4be3-e62f-9050675e741d"
      },
      "source": [
        "#Reorder columns\n",
        "school_df = school_df[[\"School Type\", \"Total Students\", \"Total School Budget\", \"Per Student Budget\", \n",
        "                                             \"Average Math Score\", \"Average Reading Score\",\"% Passing Math\", \"% Passing Reading\", \n",
        "                                             \"% Overall Passing\"]]\n",
        "school_df.head()"
      ],
      "execution_count": 266,
      "outputs": [
        {
          "output_type": "execute_result",
          "data": {
            "text/html": [
              "<div>\n",
              "<style scoped>\n",
              "    .dataframe tbody tr th:only-of-type {\n",
              "        vertical-align: middle;\n",
              "    }\n",
              "\n",
              "    .dataframe tbody tr th {\n",
              "        vertical-align: top;\n",
              "    }\n",
              "\n",
              "    .dataframe thead th {\n",
              "        text-align: right;\n",
              "    }\n",
              "</style>\n",
              "<table border=\"1\" class=\"dataframe\">\n",
              "  <thead>\n",
              "    <tr style=\"text-align: right;\">\n",
              "      <th></th>\n",
              "      <th>School Type</th>\n",
              "      <th>Total Students</th>\n",
              "      <th>Total School Budget</th>\n",
              "      <th>Per Student Budget</th>\n",
              "      <th>Average Math Score</th>\n",
              "      <th>Average Reading Score</th>\n",
              "      <th>% Passing Math</th>\n",
              "      <th>% Passing Reading</th>\n",
              "      <th>% Overall Passing</th>\n",
              "    </tr>\n",
              "  </thead>\n",
              "  <tbody>\n",
              "    <tr>\n",
              "      <th>Bailey High School</th>\n",
              "      <td>District</td>\n",
              "      <td>4976</td>\n",
              "      <td>$3,124,928.00</td>\n",
              "      <td>$628.00</td>\n",
              "      <td>77.05</td>\n",
              "      <td>81.03</td>\n",
              "      <td>66.68</td>\n",
              "      <td>81.93</td>\n",
              "      <td>54.64</td>\n",
              "    </tr>\n",
              "    <tr>\n",
              "      <th>Johnson High School</th>\n",
              "      <td>District</td>\n",
              "      <td>4761</td>\n",
              "      <td>$3,094,650.00</td>\n",
              "      <td>$650.00</td>\n",
              "      <td>77.07</td>\n",
              "      <td>80.97</td>\n",
              "      <td>66.06</td>\n",
              "      <td>81.22</td>\n",
              "      <td>53.54</td>\n",
              "    </tr>\n",
              "    <tr>\n",
              "      <th>Hernandez High School</th>\n",
              "      <td>District</td>\n",
              "      <td>4635</td>\n",
              "      <td>$3,022,020.00</td>\n",
              "      <td>$652.00</td>\n",
              "      <td>77.29</td>\n",
              "      <td>80.93</td>\n",
              "      <td>66.75</td>\n",
              "      <td>80.86</td>\n",
              "      <td>53.53</td>\n",
              "    </tr>\n",
              "    <tr>\n",
              "      <th>Rodriguez High School</th>\n",
              "      <td>District</td>\n",
              "      <td>3999</td>\n",
              "      <td>$2,547,363.00</td>\n",
              "      <td>$637.00</td>\n",
              "      <td>76.84</td>\n",
              "      <td>80.74</td>\n",
              "      <td>66.37</td>\n",
              "      <td>80.22</td>\n",
              "      <td>52.99</td>\n",
              "    </tr>\n",
              "    <tr>\n",
              "      <th>Figueroa High School</th>\n",
              "      <td>District</td>\n",
              "      <td>2949</td>\n",
              "      <td>$1,884,411.00</td>\n",
              "      <td>$639.00</td>\n",
              "      <td>76.71</td>\n",
              "      <td>81.16</td>\n",
              "      <td>65.99</td>\n",
              "      <td>80.74</td>\n",
              "      <td>53.20</td>\n",
              "    </tr>\n",
              "  </tbody>\n",
              "</table>\n",
              "</div>"
            ],
            "text/plain": [
              "                      School Type  ...  % Overall Passing\n",
              "Bailey High School       District  ...              54.64\n",
              "Johnson High School      District  ...              53.54\n",
              "Hernandez High School    District  ...              53.53\n",
              "Rodriguez High School    District  ...              52.99\n",
              "Figueroa High School     District  ...              53.20\n",
              "\n",
              "[5 rows x 9 columns]"
            ]
          },
          "metadata": {
            "tags": []
          },
          "execution_count": 266
        }
      ]
    },
    {
      "cell_type": "code",
      "metadata": {
        "id": "ABApNjheBN2u",
        "colab_type": "code",
        "colab": {}
      },
      "source": [
        ""
      ],
      "execution_count": 266,
      "outputs": []
    },
    {
      "cell_type": "markdown",
      "metadata": {
        "id": "57SdFeg3BYvY",
        "colab_type": "text"
      },
      "source": [
        "## **Top Performing Schools (By % Overall Passing)**\n",
        "\n",
        "* Sort and display the top five performing schools by % overall passing."
      ]
    },
    {
      "cell_type": "code",
      "metadata": {
        "id": "VhR6oELpBkgT",
        "colab_type": "code",
        "colab": {
          "base_uri": "https://localhost:8080/",
          "height": 391
        },
        "outputId": "15fbd04e-d7fb-4aef-a659-3e0a31cb01a6"
      },
      "source": [
        "# Sort and display the top five performing schools by % overall passing.\n",
        "top5_df = school_df.sort_values(\"% Overall Passing\", ascending=False)\n",
        "top5_df.head(5)"
      ],
      "execution_count": 267,
      "outputs": [
        {
          "output_type": "execute_result",
          "data": {
            "text/html": [
              "<div>\n",
              "<style scoped>\n",
              "    .dataframe tbody tr th:only-of-type {\n",
              "        vertical-align: middle;\n",
              "    }\n",
              "\n",
              "    .dataframe tbody tr th {\n",
              "        vertical-align: top;\n",
              "    }\n",
              "\n",
              "    .dataframe thead th {\n",
              "        text-align: right;\n",
              "    }\n",
              "</style>\n",
              "<table border=\"1\" class=\"dataframe\">\n",
              "  <thead>\n",
              "    <tr style=\"text-align: right;\">\n",
              "      <th></th>\n",
              "      <th>School Type</th>\n",
              "      <th>Total Students</th>\n",
              "      <th>Total School Budget</th>\n",
              "      <th>Per Student Budget</th>\n",
              "      <th>Average Math Score</th>\n",
              "      <th>Average Reading Score</th>\n",
              "      <th>% Passing Math</th>\n",
              "      <th>% Passing Reading</th>\n",
              "      <th>% Overall Passing</th>\n",
              "    </tr>\n",
              "  </thead>\n",
              "  <tbody>\n",
              "    <tr>\n",
              "      <th>Cabrera High School</th>\n",
              "      <td>Charter</td>\n",
              "      <td>1858</td>\n",
              "      <td>$1,081,356.00</td>\n",
              "      <td>$582.00</td>\n",
              "      <td>83.06</td>\n",
              "      <td>83.98</td>\n",
              "      <td>94.13</td>\n",
              "      <td>97.04</td>\n",
              "      <td>91.33</td>\n",
              "    </tr>\n",
              "    <tr>\n",
              "      <th>Thomas High School</th>\n",
              "      <td>Charter</td>\n",
              "      <td>1635</td>\n",
              "      <td>$1,043,130.00</td>\n",
              "      <td>$638.00</td>\n",
              "      <td>83.42</td>\n",
              "      <td>83.85</td>\n",
              "      <td>93.27</td>\n",
              "      <td>97.31</td>\n",
              "      <td>90.95</td>\n",
              "    </tr>\n",
              "    <tr>\n",
              "      <th>Griffin High School</th>\n",
              "      <td>Charter</td>\n",
              "      <td>1468</td>\n",
              "      <td>$917,500.00</td>\n",
              "      <td>$625.00</td>\n",
              "      <td>83.35</td>\n",
              "      <td>83.82</td>\n",
              "      <td>93.39</td>\n",
              "      <td>97.14</td>\n",
              "      <td>90.60</td>\n",
              "    </tr>\n",
              "    <tr>\n",
              "      <th>Wilson High School</th>\n",
              "      <td>Charter</td>\n",
              "      <td>2283</td>\n",
              "      <td>$1,319,574.00</td>\n",
              "      <td>$578.00</td>\n",
              "      <td>83.27</td>\n",
              "      <td>83.99</td>\n",
              "      <td>93.87</td>\n",
              "      <td>96.54</td>\n",
              "      <td>90.58</td>\n",
              "    </tr>\n",
              "    <tr>\n",
              "      <th>Pena High School</th>\n",
              "      <td>Charter</td>\n",
              "      <td>962</td>\n",
              "      <td>$585,858.00</td>\n",
              "      <td>$609.00</td>\n",
              "      <td>83.84</td>\n",
              "      <td>84.04</td>\n",
              "      <td>94.59</td>\n",
              "      <td>95.95</td>\n",
              "      <td>90.54</td>\n",
              "    </tr>\n",
              "  </tbody>\n",
              "</table>\n",
              "</div>"
            ],
            "text/plain": [
              "                    School Type  ...  % Overall Passing\n",
              "Cabrera High School     Charter  ...              91.33\n",
              "Thomas High School      Charter  ...              90.95\n",
              "Griffin High School     Charter  ...              90.60\n",
              "Wilson High School      Charter  ...              90.58\n",
              "Pena High School        Charter  ...              90.54\n",
              "\n",
              "[5 rows x 9 columns]"
            ]
          },
          "metadata": {
            "tags": []
          },
          "execution_count": 267
        }
      ]
    },
    {
      "cell_type": "markdown",
      "metadata": {
        "id": "wun3UUbjCRb-",
        "colab_type": "text"
      },
      "source": [
        "## **Bottom Performing Schools (By % Overall Passing)**\n",
        "\n",
        "* Sort and display the five worst-performing schools by % overall passing."
      ]
    },
    {
      "cell_type": "code",
      "metadata": {
        "id": "WZRp3r72CE52",
        "colab_type": "code",
        "colab": {
          "base_uri": "https://localhost:8080/",
          "height": 323
        },
        "outputId": "bdc17ce3-96cd-48e4-93dc-2c2276c3a5a6"
      },
      "source": [
        "# Sort and display the five worst-performing schools by % overall passing.\n",
        "bottom5_df = school_df.sort_values(\"% Overall Passing\", ascending=True)\n",
        "bottom5_df.head(5)"
      ],
      "execution_count": 268,
      "outputs": [
        {
          "output_type": "execute_result",
          "data": {
            "text/html": [
              "<div>\n",
              "<style scoped>\n",
              "    .dataframe tbody tr th:only-of-type {\n",
              "        vertical-align: middle;\n",
              "    }\n",
              "\n",
              "    .dataframe tbody tr th {\n",
              "        vertical-align: top;\n",
              "    }\n",
              "\n",
              "    .dataframe thead th {\n",
              "        text-align: right;\n",
              "    }\n",
              "</style>\n",
              "<table border=\"1\" class=\"dataframe\">\n",
              "  <thead>\n",
              "    <tr style=\"text-align: right;\">\n",
              "      <th></th>\n",
              "      <th>School Type</th>\n",
              "      <th>Total Students</th>\n",
              "      <th>Total School Budget</th>\n",
              "      <th>Per Student Budget</th>\n",
              "      <th>Average Math Score</th>\n",
              "      <th>Average Reading Score</th>\n",
              "      <th>% Passing Math</th>\n",
              "      <th>% Passing Reading</th>\n",
              "      <th>% Overall Passing</th>\n",
              "    </tr>\n",
              "  </thead>\n",
              "  <tbody>\n",
              "    <tr>\n",
              "      <th>Rodriguez High School</th>\n",
              "      <td>District</td>\n",
              "      <td>3999</td>\n",
              "      <td>$2,547,363.00</td>\n",
              "      <td>$637.00</td>\n",
              "      <td>76.84</td>\n",
              "      <td>80.74</td>\n",
              "      <td>66.37</td>\n",
              "      <td>80.22</td>\n",
              "      <td>52.99</td>\n",
              "    </tr>\n",
              "    <tr>\n",
              "      <th>Figueroa High School</th>\n",
              "      <td>District</td>\n",
              "      <td>2949</td>\n",
              "      <td>$1,884,411.00</td>\n",
              "      <td>$639.00</td>\n",
              "      <td>76.71</td>\n",
              "      <td>81.16</td>\n",
              "      <td>65.99</td>\n",
              "      <td>80.74</td>\n",
              "      <td>53.20</td>\n",
              "    </tr>\n",
              "    <tr>\n",
              "      <th>Huang High School</th>\n",
              "      <td>District</td>\n",
              "      <td>2917</td>\n",
              "      <td>$1,910,635.00</td>\n",
              "      <td>$655.00</td>\n",
              "      <td>76.63</td>\n",
              "      <td>81.18</td>\n",
              "      <td>65.68</td>\n",
              "      <td>81.32</td>\n",
              "      <td>53.51</td>\n",
              "    </tr>\n",
              "    <tr>\n",
              "      <th>Hernandez High School</th>\n",
              "      <td>District</td>\n",
              "      <td>4635</td>\n",
              "      <td>$3,022,020.00</td>\n",
              "      <td>$652.00</td>\n",
              "      <td>77.29</td>\n",
              "      <td>80.93</td>\n",
              "      <td>66.75</td>\n",
              "      <td>80.86</td>\n",
              "      <td>53.53</td>\n",
              "    </tr>\n",
              "    <tr>\n",
              "      <th>Johnson High School</th>\n",
              "      <td>District</td>\n",
              "      <td>4761</td>\n",
              "      <td>$3,094,650.00</td>\n",
              "      <td>$650.00</td>\n",
              "      <td>77.07</td>\n",
              "      <td>80.97</td>\n",
              "      <td>66.06</td>\n",
              "      <td>81.22</td>\n",
              "      <td>53.54</td>\n",
              "    </tr>\n",
              "  </tbody>\n",
              "</table>\n",
              "</div>"
            ],
            "text/plain": [
              "                      School Type  ...  % Overall Passing\n",
              "Rodriguez High School    District  ...              52.99\n",
              "Figueroa High School     District  ...              53.20\n",
              "Huang High School        District  ...              53.51\n",
              "Hernandez High School    District  ...              53.53\n",
              "Johnson High School      District  ...              53.54\n",
              "\n",
              "[5 rows x 9 columns]"
            ]
          },
          "metadata": {
            "tags": []
          },
          "execution_count": 268
        }
      ]
    },
    {
      "cell_type": "markdown",
      "metadata": {
        "id": "27lJYvvVCeYZ",
        "colab_type": "text"
      },
      "source": [
        "## **Math Scores by Grade**\n",
        "\n",
        "Create a table that lists the average Reading Score for students of each grade level (9th, 10th, 11th, 12th) at each school.\n",
        "\n",
        "* Create a pandas series for each grade. Hint: use a conditional statement.\n",
        "* Group each series by school\n",
        "* Combine the series into a dataframe\n",
        "* Optional: give the displayed data cleaner formatting"
      ]
    },
    {
      "cell_type": "code",
      "metadata": {
        "id": "wQgkLWopCuLS",
        "colab_type": "code",
        "colab": {}
      },
      "source": [
        "# Create a pandas series for each grade. Hint: use a conditional statement.\n",
        "# Group each series by school\n",
        "\n",
        "avg_math9 = school_data_complete[school_data_complete[\"grade\"]==\"9th\"].groupby([\"school_name\"]).mean()[\"math_score\"]\n",
        "avg_math10 = school_data_complete[school_data_complete[\"grade\"]==\"10th\"].groupby([\"school_name\"]).mean()[\"math_score\"]\n",
        "avg_math11 = school_data_complete[school_data_complete[\"grade\"]==\"11th\"].groupby([\"school_name\"]).mean()[\"math_score\"]\n",
        "avg_math12 = school_data_complete[school_data_complete[\"grade\"]==\"12th\"].groupby([\"school_name\"]).mean()[\"math_score\"]\n"
      ],
      "execution_count": 299,
      "outputs": []
    },
    {
      "cell_type": "code",
      "metadata": {
        "id": "SsWAOx0sD-5W",
        "colab_type": "code",
        "colab": {
          "base_uri": "https://localhost:8080/",
          "height": 545
        },
        "outputId": "85e2a236-6d7c-4aa4-b41b-6b055b9d2b0e"
      },
      "source": [
        "# Combine the series into a dataframe\n",
        "\n",
        "math_gradelvl = pd.merge(avg_math9, avg_math10, on=\"school_name\")\n",
        "math_gradelvl = pd.merge(math_gradelvl, avg_math11, on=\"school_name\")\n",
        "math_gradelvl = pd.merge(math_gradelvl, avg_math12, on=\"school_name\")\n",
        "math_gradelvl.columns = [\"9th Grade\",\"10th Grade\",\"11th Grade\",\"12th Grade\"]\n",
        "\n",
        "math_gradelvl"
      ],
      "execution_count": 300,
      "outputs": [
        {
          "output_type": "execute_result",
          "data": {
            "text/html": [
              "<div>\n",
              "<style scoped>\n",
              "    .dataframe tbody tr th:only-of-type {\n",
              "        vertical-align: middle;\n",
              "    }\n",
              "\n",
              "    .dataframe tbody tr th {\n",
              "        vertical-align: top;\n",
              "    }\n",
              "\n",
              "    .dataframe thead th {\n",
              "        text-align: right;\n",
              "    }\n",
              "</style>\n",
              "<table border=\"1\" class=\"dataframe\">\n",
              "  <thead>\n",
              "    <tr style=\"text-align: right;\">\n",
              "      <th></th>\n",
              "      <th>9th Grade</th>\n",
              "      <th>10th Grade</th>\n",
              "      <th>11th Grade</th>\n",
              "      <th>12th Grade</th>\n",
              "    </tr>\n",
              "    <tr>\n",
              "      <th>school_name</th>\n",
              "      <th></th>\n",
              "      <th></th>\n",
              "      <th></th>\n",
              "      <th></th>\n",
              "    </tr>\n",
              "  </thead>\n",
              "  <tbody>\n",
              "    <tr>\n",
              "      <th>Bailey High School</th>\n",
              "      <td>77.083676</td>\n",
              "      <td>76.996772</td>\n",
              "      <td>77.515588</td>\n",
              "      <td>76.492218</td>\n",
              "    </tr>\n",
              "    <tr>\n",
              "      <th>Cabrera High School</th>\n",
              "      <td>83.094697</td>\n",
              "      <td>83.154506</td>\n",
              "      <td>82.765560</td>\n",
              "      <td>83.277487</td>\n",
              "    </tr>\n",
              "    <tr>\n",
              "      <th>Figueroa High School</th>\n",
              "      <td>76.403037</td>\n",
              "      <td>76.539974</td>\n",
              "      <td>76.884344</td>\n",
              "      <td>77.151369</td>\n",
              "    </tr>\n",
              "    <tr>\n",
              "      <th>Ford High School</th>\n",
              "      <td>77.361345</td>\n",
              "      <td>77.672316</td>\n",
              "      <td>76.918058</td>\n",
              "      <td>76.179963</td>\n",
              "    </tr>\n",
              "    <tr>\n",
              "      <th>Griffin High School</th>\n",
              "      <td>82.044010</td>\n",
              "      <td>84.229064</td>\n",
              "      <td>83.842105</td>\n",
              "      <td>83.356164</td>\n",
              "    </tr>\n",
              "    <tr>\n",
              "      <th>Hernandez High School</th>\n",
              "      <td>77.438495</td>\n",
              "      <td>77.337408</td>\n",
              "      <td>77.136029</td>\n",
              "      <td>77.186567</td>\n",
              "    </tr>\n",
              "    <tr>\n",
              "      <th>Holden High School</th>\n",
              "      <td>83.787402</td>\n",
              "      <td>83.429825</td>\n",
              "      <td>85.000000</td>\n",
              "      <td>82.855422</td>\n",
              "    </tr>\n",
              "    <tr>\n",
              "      <th>Huang High School</th>\n",
              "      <td>77.027251</td>\n",
              "      <td>75.908735</td>\n",
              "      <td>76.446602</td>\n",
              "      <td>77.225641</td>\n",
              "    </tr>\n",
              "    <tr>\n",
              "      <th>Johnson High School</th>\n",
              "      <td>77.187857</td>\n",
              "      <td>76.691117</td>\n",
              "      <td>77.491653</td>\n",
              "      <td>76.863248</td>\n",
              "    </tr>\n",
              "    <tr>\n",
              "      <th>Pena High School</th>\n",
              "      <td>83.625455</td>\n",
              "      <td>83.372000</td>\n",
              "      <td>84.328125</td>\n",
              "      <td>84.121547</td>\n",
              "    </tr>\n",
              "    <tr>\n",
              "      <th>Rodriguez High School</th>\n",
              "      <td>76.859966</td>\n",
              "      <td>76.612500</td>\n",
              "      <td>76.395626</td>\n",
              "      <td>77.690748</td>\n",
              "    </tr>\n",
              "    <tr>\n",
              "      <th>Shelton High School</th>\n",
              "      <td>83.420755</td>\n",
              "      <td>82.917411</td>\n",
              "      <td>83.383495</td>\n",
              "      <td>83.778976</td>\n",
              "    </tr>\n",
              "    <tr>\n",
              "      <th>Thomas High School</th>\n",
              "      <td>83.590022</td>\n",
              "      <td>83.087886</td>\n",
              "      <td>83.498795</td>\n",
              "      <td>83.497041</td>\n",
              "    </tr>\n",
              "    <tr>\n",
              "      <th>Wilson High School</th>\n",
              "      <td>83.085578</td>\n",
              "      <td>83.724422</td>\n",
              "      <td>83.195326</td>\n",
              "      <td>83.035794</td>\n",
              "    </tr>\n",
              "    <tr>\n",
              "      <th>Wright High School</th>\n",
              "      <td>83.264706</td>\n",
              "      <td>84.010288</td>\n",
              "      <td>83.836782</td>\n",
              "      <td>83.644986</td>\n",
              "    </tr>\n",
              "  </tbody>\n",
              "</table>\n",
              "</div>"
            ],
            "text/plain": [
              "                       9th Grade  10th Grade  11th Grade  12th Grade\n",
              "school_name                                                         \n",
              "Bailey High School     77.083676   76.996772   77.515588   76.492218\n",
              "Cabrera High School    83.094697   83.154506   82.765560   83.277487\n",
              "Figueroa High School   76.403037   76.539974   76.884344   77.151369\n",
              "Ford High School       77.361345   77.672316   76.918058   76.179963\n",
              "Griffin High School    82.044010   84.229064   83.842105   83.356164\n",
              "Hernandez High School  77.438495   77.337408   77.136029   77.186567\n",
              "Holden High School     83.787402   83.429825   85.000000   82.855422\n",
              "Huang High School      77.027251   75.908735   76.446602   77.225641\n",
              "Johnson High School    77.187857   76.691117   77.491653   76.863248\n",
              "Pena High School       83.625455   83.372000   84.328125   84.121547\n",
              "Rodriguez High School  76.859966   76.612500   76.395626   77.690748\n",
              "Shelton High School    83.420755   82.917411   83.383495   83.778976\n",
              "Thomas High School     83.590022   83.087886   83.498795   83.497041\n",
              "Wilson High School     83.085578   83.724422   83.195326   83.035794\n",
              "Wright High School     83.264706   84.010288   83.836782   83.644986"
            ]
          },
          "metadata": {
            "tags": []
          },
          "execution_count": 300
        }
      ]
    },
    {
      "cell_type": "markdown",
      "metadata": {
        "id": "eaJIvlM0I1sb",
        "colab_type": "text"
      },
      "source": [
        "## **Reading Score by Grade**\n",
        "\n",
        "* Perform the same operations as above for reading scores"
      ]
    },
    {
      "cell_type": "code",
      "metadata": {
        "id": "JWYRVnRYFngE",
        "colab_type": "code",
        "colab": {}
      },
      "source": [
        "# Create a pandas series for each grade. Hint: use a conditional statement.\n",
        "# Group each series by school\n",
        "\n",
        "avg_read9 = school_data_complete[school_data_complete[\"grade\"]==\"9th\"].groupby([\"school_name\"]).mean()[\"reading_score\"]\n",
        "avg_read10 = school_data_complete[school_data_complete[\"grade\"]==\"10th\"].groupby([\"school_name\"]).mean()[\"reading_score\"]\n",
        "avg_read11 = school_data_complete[school_data_complete[\"grade\"]==\"11th\"].groupby([\"school_name\"]).mean()[\"reading_score\"]\n",
        "avg_read12 = school_data_complete[school_data_complete[\"grade\"]==\"12th\"].groupby([\"school_name\"]).mean()[\"reading_score\"]"
      ],
      "execution_count": 301,
      "outputs": []
    },
    {
      "cell_type": "code",
      "metadata": {
        "id": "jXpCrVikJcah",
        "colab_type": "code",
        "colab": {
          "base_uri": "https://localhost:8080/",
          "height": 545
        },
        "outputId": "c9ea7759-f57b-4cd9-eec8-055e5e710e00"
      },
      "source": [
        "# Combine the series into a dataframe\n",
        "\n",
        "read_gradelvl = pd.merge(avg_read9, avg_read10, on=\"school_name\")\n",
        "read_gradelvl = pd.merge(read_gradelvl, avg_read11, on=\"school_name\")\n",
        "read_gradelvl = pd.merge(read_gradelvl, avg_read12, on=\"school_name\")\n",
        "read_gradelvl.columns = [\"9th Grade\",\"10th Grade\",\"11th Grade\",\"12th Grade\"]\n",
        "\n",
        "read_gradelvl"
      ],
      "execution_count": 302,
      "outputs": [
        {
          "output_type": "execute_result",
          "data": {
            "text/html": [
              "<div>\n",
              "<style scoped>\n",
              "    .dataframe tbody tr th:only-of-type {\n",
              "        vertical-align: middle;\n",
              "    }\n",
              "\n",
              "    .dataframe tbody tr th {\n",
              "        vertical-align: top;\n",
              "    }\n",
              "\n",
              "    .dataframe thead th {\n",
              "        text-align: right;\n",
              "    }\n",
              "</style>\n",
              "<table border=\"1\" class=\"dataframe\">\n",
              "  <thead>\n",
              "    <tr style=\"text-align: right;\">\n",
              "      <th></th>\n",
              "      <th>9th Grade</th>\n",
              "      <th>10th Grade</th>\n",
              "      <th>11th Grade</th>\n",
              "      <th>12th Grade</th>\n",
              "    </tr>\n",
              "    <tr>\n",
              "      <th>school_name</th>\n",
              "      <th></th>\n",
              "      <th></th>\n",
              "      <th></th>\n",
              "      <th></th>\n",
              "    </tr>\n",
              "  </thead>\n",
              "  <tbody>\n",
              "    <tr>\n",
              "      <th>Bailey High School</th>\n",
              "      <td>81.303155</td>\n",
              "      <td>80.907183</td>\n",
              "      <td>80.945643</td>\n",
              "      <td>80.912451</td>\n",
              "    </tr>\n",
              "    <tr>\n",
              "      <th>Cabrera High School</th>\n",
              "      <td>83.676136</td>\n",
              "      <td>84.253219</td>\n",
              "      <td>83.788382</td>\n",
              "      <td>84.287958</td>\n",
              "    </tr>\n",
              "    <tr>\n",
              "      <th>Figueroa High School</th>\n",
              "      <td>81.198598</td>\n",
              "      <td>81.408912</td>\n",
              "      <td>80.640339</td>\n",
              "      <td>81.384863</td>\n",
              "    </tr>\n",
              "    <tr>\n",
              "      <th>Ford High School</th>\n",
              "      <td>80.632653</td>\n",
              "      <td>81.262712</td>\n",
              "      <td>80.403642</td>\n",
              "      <td>80.662338</td>\n",
              "    </tr>\n",
              "    <tr>\n",
              "      <th>Griffin High School</th>\n",
              "      <td>83.369193</td>\n",
              "      <td>83.706897</td>\n",
              "      <td>84.288089</td>\n",
              "      <td>84.013699</td>\n",
              "    </tr>\n",
              "    <tr>\n",
              "      <th>Hernandez High School</th>\n",
              "      <td>80.866860</td>\n",
              "      <td>80.660147</td>\n",
              "      <td>81.396140</td>\n",
              "      <td>80.857143</td>\n",
              "    </tr>\n",
              "    <tr>\n",
              "      <th>Holden High School</th>\n",
              "      <td>83.677165</td>\n",
              "      <td>83.324561</td>\n",
              "      <td>83.815534</td>\n",
              "      <td>84.698795</td>\n",
              "    </tr>\n",
              "    <tr>\n",
              "      <th>Huang High School</th>\n",
              "      <td>81.290284</td>\n",
              "      <td>81.512386</td>\n",
              "      <td>81.417476</td>\n",
              "      <td>80.305983</td>\n",
              "    </tr>\n",
              "    <tr>\n",
              "      <th>Johnson High School</th>\n",
              "      <td>81.260714</td>\n",
              "      <td>80.773431</td>\n",
              "      <td>80.616027</td>\n",
              "      <td>81.227564</td>\n",
              "    </tr>\n",
              "    <tr>\n",
              "      <th>Pena High School</th>\n",
              "      <td>83.807273</td>\n",
              "      <td>83.612000</td>\n",
              "      <td>84.335938</td>\n",
              "      <td>84.591160</td>\n",
              "    </tr>\n",
              "    <tr>\n",
              "      <th>Rodriguez High School</th>\n",
              "      <td>80.993127</td>\n",
              "      <td>80.629808</td>\n",
              "      <td>80.864811</td>\n",
              "      <td>80.376426</td>\n",
              "    </tr>\n",
              "    <tr>\n",
              "      <th>Shelton High School</th>\n",
              "      <td>84.122642</td>\n",
              "      <td>83.441964</td>\n",
              "      <td>84.373786</td>\n",
              "      <td>82.781671</td>\n",
              "    </tr>\n",
              "    <tr>\n",
              "      <th>Thomas High School</th>\n",
              "      <td>83.728850</td>\n",
              "      <td>84.254157</td>\n",
              "      <td>83.585542</td>\n",
              "      <td>83.831361</td>\n",
              "    </tr>\n",
              "    <tr>\n",
              "      <th>Wilson High School</th>\n",
              "      <td>83.939778</td>\n",
              "      <td>84.021452</td>\n",
              "      <td>83.764608</td>\n",
              "      <td>84.317673</td>\n",
              "    </tr>\n",
              "    <tr>\n",
              "      <th>Wright High School</th>\n",
              "      <td>83.833333</td>\n",
              "      <td>83.812757</td>\n",
              "      <td>84.156322</td>\n",
              "      <td>84.073171</td>\n",
              "    </tr>\n",
              "  </tbody>\n",
              "</table>\n",
              "</div>"
            ],
            "text/plain": [
              "                       9th Grade  10th Grade  11th Grade  12th Grade\n",
              "school_name                                                         \n",
              "Bailey High School     81.303155   80.907183   80.945643   80.912451\n",
              "Cabrera High School    83.676136   84.253219   83.788382   84.287958\n",
              "Figueroa High School   81.198598   81.408912   80.640339   81.384863\n",
              "Ford High School       80.632653   81.262712   80.403642   80.662338\n",
              "Griffin High School    83.369193   83.706897   84.288089   84.013699\n",
              "Hernandez High School  80.866860   80.660147   81.396140   80.857143\n",
              "Holden High School     83.677165   83.324561   83.815534   84.698795\n",
              "Huang High School      81.290284   81.512386   81.417476   80.305983\n",
              "Johnson High School    81.260714   80.773431   80.616027   81.227564\n",
              "Pena High School       83.807273   83.612000   84.335938   84.591160\n",
              "Rodriguez High School  80.993127   80.629808   80.864811   80.376426\n",
              "Shelton High School    84.122642   83.441964   84.373786   82.781671\n",
              "Thomas High School     83.728850   84.254157   83.585542   83.831361\n",
              "Wilson High School     83.939778   84.021452   83.764608   84.317673\n",
              "Wright High School     83.833333   83.812757   84.156322   84.073171"
            ]
          },
          "metadata": {
            "tags": []
          },
          "execution_count": 302
        }
      ]
    },
    {
      "cell_type": "code",
      "metadata": {
        "id": "DKlk_xjJJ0E5",
        "colab_type": "code",
        "colab": {}
      },
      "source": [
        ""
      ],
      "execution_count": null,
      "outputs": []
    },
    {
      "cell_type": "markdown",
      "metadata": {
        "id": "01KjU-IsJ--h",
        "colab_type": "text"
      },
      "source": [
        "## **Scores by School Spending**\n",
        "\n",
        "Create a table that breaks down school performances based on average Spending Ranges (Per Student). Use 4 reasonable bins to group school spending. Include in the table each of the following:\n",
        "* Average Math Score\n",
        "* Average Reading Score\n",
        "* % Passing Math\n",
        "* % Passing Reading\n",
        "*Overall Passing Rate (Average of the above two)\n"
      ]
    },
    {
      "cell_type": "code",
      "metadata": {
        "id": "XwsS5-hnMGju",
        "colab_type": "code",
        "colab": {
          "base_uri": "https://localhost:8080/",
          "height": 514
        },
        "outputId": "608843d5-c3cd-41d1-bc2d-1440236bebe9"
      },
      "source": [
        "#Create dataframe\n",
        "spend_df_1 = school_df[[\"Average Math Score\",\n",
        "                                  \"Average Reading Score\",\"% Passing Math\",\n",
        "                                  \"% Passing Reading\",\"% Overall Passing\"]]\n",
        "\n",
        "spend_df = pd.DataFrame(spend_df_1)\n",
        "\n",
        "spend_df"
      ],
      "execution_count": 354,
      "outputs": [
        {
          "output_type": "execute_result",
          "data": {
            "text/html": [
              "<div>\n",
              "<style scoped>\n",
              "    .dataframe tbody tr th:only-of-type {\n",
              "        vertical-align: middle;\n",
              "    }\n",
              "\n",
              "    .dataframe tbody tr th {\n",
              "        vertical-align: top;\n",
              "    }\n",
              "\n",
              "    .dataframe thead th {\n",
              "        text-align: right;\n",
              "    }\n",
              "</style>\n",
              "<table border=\"1\" class=\"dataframe\">\n",
              "  <thead>\n",
              "    <tr style=\"text-align: right;\">\n",
              "      <th></th>\n",
              "      <th>Average Math Score</th>\n",
              "      <th>Average Reading Score</th>\n",
              "      <th>% Passing Math</th>\n",
              "      <th>% Passing Reading</th>\n",
              "      <th>% Overall Passing</th>\n",
              "    </tr>\n",
              "  </thead>\n",
              "  <tbody>\n",
              "    <tr>\n",
              "      <th>Bailey High School</th>\n",
              "      <td>77.05</td>\n",
              "      <td>81.03</td>\n",
              "      <td>66.68</td>\n",
              "      <td>81.93</td>\n",
              "      <td>54.64</td>\n",
              "    </tr>\n",
              "    <tr>\n",
              "      <th>Johnson High School</th>\n",
              "      <td>77.07</td>\n",
              "      <td>80.97</td>\n",
              "      <td>66.06</td>\n",
              "      <td>81.22</td>\n",
              "      <td>53.54</td>\n",
              "    </tr>\n",
              "    <tr>\n",
              "      <th>Hernandez High School</th>\n",
              "      <td>77.29</td>\n",
              "      <td>80.93</td>\n",
              "      <td>66.75</td>\n",
              "      <td>80.86</td>\n",
              "      <td>53.53</td>\n",
              "    </tr>\n",
              "    <tr>\n",
              "      <th>Rodriguez High School</th>\n",
              "      <td>76.84</td>\n",
              "      <td>80.74</td>\n",
              "      <td>66.37</td>\n",
              "      <td>80.22</td>\n",
              "      <td>52.99</td>\n",
              "    </tr>\n",
              "    <tr>\n",
              "      <th>Figueroa High School</th>\n",
              "      <td>76.71</td>\n",
              "      <td>81.16</td>\n",
              "      <td>65.99</td>\n",
              "      <td>80.74</td>\n",
              "      <td>53.20</td>\n",
              "    </tr>\n",
              "    <tr>\n",
              "      <th>Huang High School</th>\n",
              "      <td>76.63</td>\n",
              "      <td>81.18</td>\n",
              "      <td>65.68</td>\n",
              "      <td>81.32</td>\n",
              "      <td>53.51</td>\n",
              "    </tr>\n",
              "    <tr>\n",
              "      <th>Ford High School</th>\n",
              "      <td>77.10</td>\n",
              "      <td>80.75</td>\n",
              "      <td>68.31</td>\n",
              "      <td>79.30</td>\n",
              "      <td>54.29</td>\n",
              "    </tr>\n",
              "    <tr>\n",
              "      <th>Wilson High School</th>\n",
              "      <td>83.27</td>\n",
              "      <td>83.99</td>\n",
              "      <td>93.87</td>\n",
              "      <td>96.54</td>\n",
              "      <td>90.58</td>\n",
              "    </tr>\n",
              "    <tr>\n",
              "      <th>Cabrera High School</th>\n",
              "      <td>83.06</td>\n",
              "      <td>83.98</td>\n",
              "      <td>94.13</td>\n",
              "      <td>97.04</td>\n",
              "      <td>91.33</td>\n",
              "    </tr>\n",
              "    <tr>\n",
              "      <th>Wright High School</th>\n",
              "      <td>83.68</td>\n",
              "      <td>83.96</td>\n",
              "      <td>93.33</td>\n",
              "      <td>96.61</td>\n",
              "      <td>90.33</td>\n",
              "    </tr>\n",
              "    <tr>\n",
              "      <th>Shelton High School</th>\n",
              "      <td>83.36</td>\n",
              "      <td>83.73</td>\n",
              "      <td>93.87</td>\n",
              "      <td>95.85</td>\n",
              "      <td>89.89</td>\n",
              "    </tr>\n",
              "    <tr>\n",
              "      <th>Thomas High School</th>\n",
              "      <td>83.42</td>\n",
              "      <td>83.85</td>\n",
              "      <td>93.27</td>\n",
              "      <td>97.31</td>\n",
              "      <td>90.95</td>\n",
              "    </tr>\n",
              "    <tr>\n",
              "      <th>Griffin High School</th>\n",
              "      <td>83.35</td>\n",
              "      <td>83.82</td>\n",
              "      <td>93.39</td>\n",
              "      <td>97.14</td>\n",
              "      <td>90.60</td>\n",
              "    </tr>\n",
              "    <tr>\n",
              "      <th>Pena High School</th>\n",
              "      <td>83.84</td>\n",
              "      <td>84.04</td>\n",
              "      <td>94.59</td>\n",
              "      <td>95.95</td>\n",
              "      <td>90.54</td>\n",
              "    </tr>\n",
              "    <tr>\n",
              "      <th>Holden High School</th>\n",
              "      <td>83.80</td>\n",
              "      <td>83.81</td>\n",
              "      <td>92.51</td>\n",
              "      <td>96.25</td>\n",
              "      <td>89.23</td>\n",
              "    </tr>\n",
              "  </tbody>\n",
              "</table>\n",
              "</div>"
            ],
            "text/plain": [
              "                       Average Math Score  ...  % Overall Passing\n",
              "Bailey High School                  77.05  ...              54.64\n",
              "Johnson High School                 77.07  ...              53.54\n",
              "Hernandez High School               77.29  ...              53.53\n",
              "Rodriguez High School               76.84  ...              52.99\n",
              "Figueroa High School                76.71  ...              53.20\n",
              "Huang High School                   76.63  ...              53.51\n",
              "Ford High School                    77.10  ...              54.29\n",
              "Wilson High School                  83.27  ...              90.58\n",
              "Cabrera High School                 83.06  ...              91.33\n",
              "Wright High School                  83.68  ...              90.33\n",
              "Shelton High School                 83.36  ...              89.89\n",
              "Thomas High School                  83.42  ...              90.95\n",
              "Griffin High School                 83.35  ...              90.60\n",
              "Pena High School                    83.84  ...              90.54\n",
              "Holden High School                  83.80  ...              89.23\n",
              "\n",
              "[15 rows x 5 columns]"
            ]
          },
          "metadata": {
            "tags": []
          },
          "execution_count": 354
        }
      ]
    },
    {
      "cell_type": "code",
      "metadata": {
        "id": "hNErnjQjKVJ8",
        "colab_type": "code",
        "colab": {}
      },
      "source": [
        "# Create bins for data\n",
        "spendbins = [0, 585, 630, 645, 675]\n",
        "spendgroups = [\"Under $585\", \"$585-629\", \"$630-644\", \"$645-675\"]"
      ],
      "execution_count": 355,
      "outputs": []
    },
    {
      "cell_type": "code",
      "metadata": {
        "id": "uCXDoZUpNr-x",
        "colab_type": "code",
        "colab": {
          "base_uri": "https://localhost:8080/",
          "height": 374
        },
        "outputId": "b02ab912-c097-4074-c7a2-67cc460ab849"
      },
      "source": [
        "spend_df[\"Spending Ranges (Per Student)\"] = pd.cut(school_df[\"Per Student Budget\"], spendbins, labels=spendgroups, include_lowest=True)\n",
        "\n",
        "spend_df.head()"
      ],
      "execution_count": 356,
      "outputs": [
        {
          "output_type": "error",
          "ename": "TypeError",
          "evalue": "ignored",
          "traceback": [
            "\u001b[0;31m---------------------------------------------------------------------------\u001b[0m",
            "\u001b[0;31mTypeError\u001b[0m                                 Traceback (most recent call last)",
            "\u001b[0;32m<ipython-input-356-45ea8388161f>\u001b[0m in \u001b[0;36m<module>\u001b[0;34m()\u001b[0m\n\u001b[0;32m----> 1\u001b[0;31m \u001b[0mspend_df\u001b[0m\u001b[0;34m[\u001b[0m\u001b[0;34m\"Spending Ranges (Per Student)\"\u001b[0m\u001b[0;34m]\u001b[0m \u001b[0;34m=\u001b[0m \u001b[0mpd\u001b[0m\u001b[0;34m.\u001b[0m\u001b[0mcut\u001b[0m\u001b[0;34m(\u001b[0m\u001b[0mschool_df\u001b[0m\u001b[0;34m[\u001b[0m\u001b[0;34m\"Per Student Budget\"\u001b[0m\u001b[0;34m]\u001b[0m\u001b[0;34m,\u001b[0m \u001b[0mspendbins\u001b[0m\u001b[0;34m,\u001b[0m \u001b[0mlabels\u001b[0m\u001b[0;34m=\u001b[0m\u001b[0mspendgroups\u001b[0m\u001b[0;34m,\u001b[0m \u001b[0minclude_lowest\u001b[0m\u001b[0;34m=\u001b[0m\u001b[0;32mTrue\u001b[0m\u001b[0;34m)\u001b[0m\u001b[0;34m\u001b[0m\u001b[0;34m\u001b[0m\u001b[0m\n\u001b[0m\u001b[1;32m      2\u001b[0m \u001b[0;34m\u001b[0m\u001b[0m\n\u001b[1;32m      3\u001b[0m \u001b[0mspend_df\u001b[0m\u001b[0;34m.\u001b[0m\u001b[0mhead\u001b[0m\u001b[0;34m(\u001b[0m\u001b[0;34m)\u001b[0m\u001b[0;34m\u001b[0m\u001b[0;34m\u001b[0m\u001b[0m\n",
            "\u001b[0;32m/usr/local/lib/python3.6/dist-packages/pandas/core/reshape/tile.py\u001b[0m in \u001b[0;36mcut\u001b[0;34m(x, bins, right, labels, retbins, precision, include_lowest, duplicates)\u001b[0m\n\u001b[1;32m    263\u001b[0m         \u001b[0minclude_lowest\u001b[0m\u001b[0;34m=\u001b[0m\u001b[0minclude_lowest\u001b[0m\u001b[0;34m,\u001b[0m\u001b[0;34m\u001b[0m\u001b[0;34m\u001b[0m\u001b[0m\n\u001b[1;32m    264\u001b[0m         \u001b[0mdtype\u001b[0m\u001b[0;34m=\u001b[0m\u001b[0mdtype\u001b[0m\u001b[0;34m,\u001b[0m\u001b[0;34m\u001b[0m\u001b[0;34m\u001b[0m\u001b[0m\n\u001b[0;32m--> 265\u001b[0;31m         \u001b[0mduplicates\u001b[0m\u001b[0;34m=\u001b[0m\u001b[0mduplicates\u001b[0m\u001b[0;34m,\u001b[0m\u001b[0;34m\u001b[0m\u001b[0;34m\u001b[0m\u001b[0m\n\u001b[0m\u001b[1;32m    266\u001b[0m     )\n\u001b[1;32m    267\u001b[0m \u001b[0;34m\u001b[0m\u001b[0m\n",
            "\u001b[0;32m/usr/local/lib/python3.6/dist-packages/pandas/core/reshape/tile.py\u001b[0m in \u001b[0;36m_bins_to_cuts\u001b[0;34m(x, bins, right, labels, precision, include_lowest, dtype, duplicates)\u001b[0m\n\u001b[1;32m    386\u001b[0m \u001b[0;34m\u001b[0m\u001b[0m\n\u001b[1;32m    387\u001b[0m     \u001b[0mside\u001b[0m \u001b[0;34m=\u001b[0m \u001b[0;34m\"left\"\u001b[0m \u001b[0;32mif\u001b[0m \u001b[0mright\u001b[0m \u001b[0;32melse\u001b[0m \u001b[0;34m\"right\"\u001b[0m\u001b[0;34m\u001b[0m\u001b[0;34m\u001b[0m\u001b[0m\n\u001b[0;32m--> 388\u001b[0;31m     \u001b[0mids\u001b[0m \u001b[0;34m=\u001b[0m \u001b[0mensure_int64\u001b[0m\u001b[0;34m(\u001b[0m\u001b[0mbins\u001b[0m\u001b[0;34m.\u001b[0m\u001b[0msearchsorted\u001b[0m\u001b[0;34m(\u001b[0m\u001b[0mx\u001b[0m\u001b[0;34m,\u001b[0m \u001b[0mside\u001b[0m\u001b[0;34m=\u001b[0m\u001b[0mside\u001b[0m\u001b[0;34m)\u001b[0m\u001b[0;34m)\u001b[0m\u001b[0;34m\u001b[0m\u001b[0;34m\u001b[0m\u001b[0m\n\u001b[0m\u001b[1;32m    389\u001b[0m \u001b[0;34m\u001b[0m\u001b[0m\n\u001b[1;32m    390\u001b[0m     \u001b[0;32mif\u001b[0m \u001b[0minclude_lowest\u001b[0m\u001b[0;34m:\u001b[0m\u001b[0;34m\u001b[0m\u001b[0;34m\u001b[0m\u001b[0m\n",
            "\u001b[0;31mTypeError\u001b[0m: '<' not supported between instances of 'int' and 'str'"
          ]
        }
      ]
    },
    {
      "cell_type": "code",
      "metadata": {
        "id": "lzycTSuTPnXV",
        "colab_type": "code",
        "colab": {
          "base_uri": "https://localhost:8080/",
          "height": 357
        },
        "outputId": "06fe41ea-8477-4303-88ec-7906e84a4d83"
      },
      "source": [
        "#Create goup based on bins\n",
        "spend_df = spend_df.groupby(\"Spending Ranges (Per Student)\")\n",
        "spend_df"
      ],
      "execution_count": 357,
      "outputs": [
        {
          "output_type": "error",
          "ename": "KeyError",
          "evalue": "ignored",
          "traceback": [
            "\u001b[0;31m---------------------------------------------------------------------------\u001b[0m",
            "\u001b[0;31mKeyError\u001b[0m                                  Traceback (most recent call last)",
            "\u001b[0;32m<ipython-input-357-9a64286e79d9>\u001b[0m in \u001b[0;36m<module>\u001b[0;34m()\u001b[0m\n\u001b[1;32m      1\u001b[0m \u001b[0;31m#Create goup based on bins\u001b[0m\u001b[0;34m\u001b[0m\u001b[0;34m\u001b[0m\u001b[0;34m\u001b[0m\u001b[0m\n\u001b[0;32m----> 2\u001b[0;31m \u001b[0mspend_df\u001b[0m \u001b[0;34m=\u001b[0m \u001b[0mspend_df\u001b[0m\u001b[0;34m.\u001b[0m\u001b[0mgroupby\u001b[0m\u001b[0;34m(\u001b[0m\u001b[0;34m\"Spending Ranges (Per Student)\"\u001b[0m\u001b[0;34m)\u001b[0m\u001b[0;34m\u001b[0m\u001b[0;34m\u001b[0m\u001b[0m\n\u001b[0m\u001b[1;32m      3\u001b[0m \u001b[0mspend_df\u001b[0m\u001b[0;34m\u001b[0m\u001b[0;34m\u001b[0m\u001b[0m\n",
            "\u001b[0;32m/usr/local/lib/python3.6/dist-packages/pandas/core/frame.py\u001b[0m in \u001b[0;36mgroupby\u001b[0;34m(self, by, axis, level, as_index, sort, group_keys, squeeze, observed)\u001b[0m\n\u001b[1;32m   5808\u001b[0m             \u001b[0mgroup_keys\u001b[0m\u001b[0;34m=\u001b[0m\u001b[0mgroup_keys\u001b[0m\u001b[0;34m,\u001b[0m\u001b[0;34m\u001b[0m\u001b[0;34m\u001b[0m\u001b[0m\n\u001b[1;32m   5809\u001b[0m             \u001b[0msqueeze\u001b[0m\u001b[0;34m=\u001b[0m\u001b[0msqueeze\u001b[0m\u001b[0;34m,\u001b[0m\u001b[0;34m\u001b[0m\u001b[0;34m\u001b[0m\u001b[0m\n\u001b[0;32m-> 5810\u001b[0;31m             \u001b[0mobserved\u001b[0m\u001b[0;34m=\u001b[0m\u001b[0mobserved\u001b[0m\u001b[0;34m,\u001b[0m\u001b[0;34m\u001b[0m\u001b[0;34m\u001b[0m\u001b[0m\n\u001b[0m\u001b[1;32m   5811\u001b[0m         )\n\u001b[1;32m   5812\u001b[0m \u001b[0;34m\u001b[0m\u001b[0m\n",
            "\u001b[0;32m/usr/local/lib/python3.6/dist-packages/pandas/core/groupby/groupby.py\u001b[0m in \u001b[0;36m__init__\u001b[0;34m(self, obj, keys, axis, level, grouper, exclusions, selection, as_index, sort, group_keys, squeeze, observed, mutated)\u001b[0m\n\u001b[1;32m    408\u001b[0m                 \u001b[0msort\u001b[0m\u001b[0;34m=\u001b[0m\u001b[0msort\u001b[0m\u001b[0;34m,\u001b[0m\u001b[0;34m\u001b[0m\u001b[0;34m\u001b[0m\u001b[0m\n\u001b[1;32m    409\u001b[0m                 \u001b[0mobserved\u001b[0m\u001b[0;34m=\u001b[0m\u001b[0mobserved\u001b[0m\u001b[0;34m,\u001b[0m\u001b[0;34m\u001b[0m\u001b[0;34m\u001b[0m\u001b[0m\n\u001b[0;32m--> 410\u001b[0;31m                 \u001b[0mmutated\u001b[0m\u001b[0;34m=\u001b[0m\u001b[0mself\u001b[0m\u001b[0;34m.\u001b[0m\u001b[0mmutated\u001b[0m\u001b[0;34m,\u001b[0m\u001b[0;34m\u001b[0m\u001b[0;34m\u001b[0m\u001b[0m\n\u001b[0m\u001b[1;32m    411\u001b[0m             )\n\u001b[1;32m    412\u001b[0m \u001b[0;34m\u001b[0m\u001b[0m\n",
            "\u001b[0;32m/usr/local/lib/python3.6/dist-packages/pandas/core/groupby/grouper.py\u001b[0m in \u001b[0;36mget_grouper\u001b[0;34m(obj, key, axis, level, sort, observed, mutated, validate)\u001b[0m\n\u001b[1;32m    598\u001b[0m                 \u001b[0min_axis\u001b[0m\u001b[0;34m,\u001b[0m \u001b[0mname\u001b[0m\u001b[0;34m,\u001b[0m \u001b[0mlevel\u001b[0m\u001b[0;34m,\u001b[0m \u001b[0mgpr\u001b[0m \u001b[0;34m=\u001b[0m \u001b[0;32mFalse\u001b[0m\u001b[0;34m,\u001b[0m \u001b[0;32mNone\u001b[0m\u001b[0;34m,\u001b[0m \u001b[0mgpr\u001b[0m\u001b[0;34m,\u001b[0m \u001b[0;32mNone\u001b[0m\u001b[0;34m\u001b[0m\u001b[0;34m\u001b[0m\u001b[0m\n\u001b[1;32m    599\u001b[0m             \u001b[0;32melse\u001b[0m\u001b[0;34m:\u001b[0m\u001b[0;34m\u001b[0m\u001b[0;34m\u001b[0m\u001b[0m\n\u001b[0;32m--> 600\u001b[0;31m                 \u001b[0;32mraise\u001b[0m \u001b[0mKeyError\u001b[0m\u001b[0;34m(\u001b[0m\u001b[0mgpr\u001b[0m\u001b[0;34m)\u001b[0m\u001b[0;34m\u001b[0m\u001b[0;34m\u001b[0m\u001b[0m\n\u001b[0m\u001b[1;32m    601\u001b[0m         \u001b[0;32melif\u001b[0m \u001b[0misinstance\u001b[0m\u001b[0;34m(\u001b[0m\u001b[0mgpr\u001b[0m\u001b[0;34m,\u001b[0m \u001b[0mGrouper\u001b[0m\u001b[0;34m)\u001b[0m \u001b[0;32mand\u001b[0m \u001b[0mgpr\u001b[0m\u001b[0;34m.\u001b[0m\u001b[0mkey\u001b[0m \u001b[0;32mis\u001b[0m \u001b[0;32mnot\u001b[0m \u001b[0;32mNone\u001b[0m\u001b[0;34m:\u001b[0m\u001b[0;34m\u001b[0m\u001b[0;34m\u001b[0m\u001b[0m\n\u001b[1;32m    602\u001b[0m             \u001b[0;31m# Add key to exclusions\u001b[0m\u001b[0;34m\u001b[0m\u001b[0;34m\u001b[0m\u001b[0;34m\u001b[0m\u001b[0m\n",
            "\u001b[0;31mKeyError\u001b[0m: 'Spending Ranges (Per Student)'"
          ]
        }
      ]
    },
    {
      "cell_type": "markdown",
      "metadata": {
        "id": "RyWMYYYkUfOw",
        "colab_type": "text"
      },
      "source": [
        "## **Scores by School Size**\n",
        "Create a table that breaks down school performances based on average School Size. Use 4 reasonable bins to group school spending. Include in the table each of the following:\n",
        "\n",
        "* Average Math Score\n",
        "* Average Reading Score\n",
        "* % Passing Math\n",
        "* % Passing Reading\n",
        "* Overall Passing Rate (Average of the above two)"
      ]
    },
    {
      "cell_type": "code",
      "metadata": {
        "id": "cjv6cLS9VDMb",
        "colab_type": "code",
        "colab": {
          "base_uri": "https://localhost:8080/",
          "height": 514
        },
        "outputId": "089ca796-41fa-44b3-b018-91de126ec522"
      },
      "source": [
        "#Create dataframe\n",
        "size_df_1 = school_df[[\"Average Math Score\",\n",
        "                                  \"Average Reading Score\",\"% Passing Math\",\n",
        "                                  \"% Passing Reading\",\"% Overall Passing\"]]\n",
        "\n",
        "size_df = pd.DataFrame(size_df_1)\n",
        "\n",
        "size_df"
      ],
      "execution_count": 358,
      "outputs": [
        {
          "output_type": "execute_result",
          "data": {
            "text/html": [
              "<div>\n",
              "<style scoped>\n",
              "    .dataframe tbody tr th:only-of-type {\n",
              "        vertical-align: middle;\n",
              "    }\n",
              "\n",
              "    .dataframe tbody tr th {\n",
              "        vertical-align: top;\n",
              "    }\n",
              "\n",
              "    .dataframe thead th {\n",
              "        text-align: right;\n",
              "    }\n",
              "</style>\n",
              "<table border=\"1\" class=\"dataframe\">\n",
              "  <thead>\n",
              "    <tr style=\"text-align: right;\">\n",
              "      <th></th>\n",
              "      <th>Average Math Score</th>\n",
              "      <th>Average Reading Score</th>\n",
              "      <th>% Passing Math</th>\n",
              "      <th>% Passing Reading</th>\n",
              "      <th>% Overall Passing</th>\n",
              "    </tr>\n",
              "  </thead>\n",
              "  <tbody>\n",
              "    <tr>\n",
              "      <th>Bailey High School</th>\n",
              "      <td>77.05</td>\n",
              "      <td>81.03</td>\n",
              "      <td>66.68</td>\n",
              "      <td>81.93</td>\n",
              "      <td>54.64</td>\n",
              "    </tr>\n",
              "    <tr>\n",
              "      <th>Johnson High School</th>\n",
              "      <td>77.07</td>\n",
              "      <td>80.97</td>\n",
              "      <td>66.06</td>\n",
              "      <td>81.22</td>\n",
              "      <td>53.54</td>\n",
              "    </tr>\n",
              "    <tr>\n",
              "      <th>Hernandez High School</th>\n",
              "      <td>77.29</td>\n",
              "      <td>80.93</td>\n",
              "      <td>66.75</td>\n",
              "      <td>80.86</td>\n",
              "      <td>53.53</td>\n",
              "    </tr>\n",
              "    <tr>\n",
              "      <th>Rodriguez High School</th>\n",
              "      <td>76.84</td>\n",
              "      <td>80.74</td>\n",
              "      <td>66.37</td>\n",
              "      <td>80.22</td>\n",
              "      <td>52.99</td>\n",
              "    </tr>\n",
              "    <tr>\n",
              "      <th>Figueroa High School</th>\n",
              "      <td>76.71</td>\n",
              "      <td>81.16</td>\n",
              "      <td>65.99</td>\n",
              "      <td>80.74</td>\n",
              "      <td>53.20</td>\n",
              "    </tr>\n",
              "    <tr>\n",
              "      <th>Huang High School</th>\n",
              "      <td>76.63</td>\n",
              "      <td>81.18</td>\n",
              "      <td>65.68</td>\n",
              "      <td>81.32</td>\n",
              "      <td>53.51</td>\n",
              "    </tr>\n",
              "    <tr>\n",
              "      <th>Ford High School</th>\n",
              "      <td>77.10</td>\n",
              "      <td>80.75</td>\n",
              "      <td>68.31</td>\n",
              "      <td>79.30</td>\n",
              "      <td>54.29</td>\n",
              "    </tr>\n",
              "    <tr>\n",
              "      <th>Wilson High School</th>\n",
              "      <td>83.27</td>\n",
              "      <td>83.99</td>\n",
              "      <td>93.87</td>\n",
              "      <td>96.54</td>\n",
              "      <td>90.58</td>\n",
              "    </tr>\n",
              "    <tr>\n",
              "      <th>Cabrera High School</th>\n",
              "      <td>83.06</td>\n",
              "      <td>83.98</td>\n",
              "      <td>94.13</td>\n",
              "      <td>97.04</td>\n",
              "      <td>91.33</td>\n",
              "    </tr>\n",
              "    <tr>\n",
              "      <th>Wright High School</th>\n",
              "      <td>83.68</td>\n",
              "      <td>83.96</td>\n",
              "      <td>93.33</td>\n",
              "      <td>96.61</td>\n",
              "      <td>90.33</td>\n",
              "    </tr>\n",
              "    <tr>\n",
              "      <th>Shelton High School</th>\n",
              "      <td>83.36</td>\n",
              "      <td>83.73</td>\n",
              "      <td>93.87</td>\n",
              "      <td>95.85</td>\n",
              "      <td>89.89</td>\n",
              "    </tr>\n",
              "    <tr>\n",
              "      <th>Thomas High School</th>\n",
              "      <td>83.42</td>\n",
              "      <td>83.85</td>\n",
              "      <td>93.27</td>\n",
              "      <td>97.31</td>\n",
              "      <td>90.95</td>\n",
              "    </tr>\n",
              "    <tr>\n",
              "      <th>Griffin High School</th>\n",
              "      <td>83.35</td>\n",
              "      <td>83.82</td>\n",
              "      <td>93.39</td>\n",
              "      <td>97.14</td>\n",
              "      <td>90.60</td>\n",
              "    </tr>\n",
              "    <tr>\n",
              "      <th>Pena High School</th>\n",
              "      <td>83.84</td>\n",
              "      <td>84.04</td>\n",
              "      <td>94.59</td>\n",
              "      <td>95.95</td>\n",
              "      <td>90.54</td>\n",
              "    </tr>\n",
              "    <tr>\n",
              "      <th>Holden High School</th>\n",
              "      <td>83.80</td>\n",
              "      <td>83.81</td>\n",
              "      <td>92.51</td>\n",
              "      <td>96.25</td>\n",
              "      <td>89.23</td>\n",
              "    </tr>\n",
              "  </tbody>\n",
              "</table>\n",
              "</div>"
            ],
            "text/plain": [
              "                       Average Math Score  ...  % Overall Passing\n",
              "Bailey High School                  77.05  ...              54.64\n",
              "Johnson High School                 77.07  ...              53.54\n",
              "Hernandez High School               77.29  ...              53.53\n",
              "Rodriguez High School               76.84  ...              52.99\n",
              "Figueroa High School                76.71  ...              53.20\n",
              "Huang High School                   76.63  ...              53.51\n",
              "Ford High School                    77.10  ...              54.29\n",
              "Wilson High School                  83.27  ...              90.58\n",
              "Cabrera High School                 83.06  ...              91.33\n",
              "Wright High School                  83.68  ...              90.33\n",
              "Shelton High School                 83.36  ...              89.89\n",
              "Thomas High School                  83.42  ...              90.95\n",
              "Griffin High School                 83.35  ...              90.60\n",
              "Pena High School                    83.84  ...              90.54\n",
              "Holden High School                  83.80  ...              89.23\n",
              "\n",
              "[15 rows x 5 columns]"
            ]
          },
          "metadata": {
            "tags": []
          },
          "execution_count": 358
        }
      ]
    },
    {
      "cell_type": "code",
      "metadata": {
        "id": "5_EacN9LVK92",
        "colab_type": "code",
        "colab": {}
      },
      "source": [
        "# Create bins for data\n",
        "sizebins = [0, 1000, 2000, 5000]\n",
        "sizegroups = [\"Small (<1000)\", \"Medium (1000-2000)\", \"Large (2000-5000)\"]"
      ],
      "execution_count": 359,
      "outputs": []
    },
    {
      "cell_type": "code",
      "metadata": {
        "id": "vucD0cpmVysG",
        "colab_type": "code",
        "colab": {
          "base_uri": "https://localhost:8080/",
          "height": 204
        },
        "outputId": "1d8fa0a6-ca01-4eed-c6b6-a10acfda2655"
      },
      "source": [
        "size_df[\"School Size\"] = pd.cut(school_df[\"Total Students\"], sizebins, labels=sizegroups, include_lowest=True)\n",
        "\n",
        "size_df.head()"
      ],
      "execution_count": 360,
      "outputs": [
        {
          "output_type": "execute_result",
          "data": {
            "text/html": [
              "<div>\n",
              "<style scoped>\n",
              "    .dataframe tbody tr th:only-of-type {\n",
              "        vertical-align: middle;\n",
              "    }\n",
              "\n",
              "    .dataframe tbody tr th {\n",
              "        vertical-align: top;\n",
              "    }\n",
              "\n",
              "    .dataframe thead th {\n",
              "        text-align: right;\n",
              "    }\n",
              "</style>\n",
              "<table border=\"1\" class=\"dataframe\">\n",
              "  <thead>\n",
              "    <tr style=\"text-align: right;\">\n",
              "      <th></th>\n",
              "      <th>Average Math Score</th>\n",
              "      <th>Average Reading Score</th>\n",
              "      <th>% Passing Math</th>\n",
              "      <th>% Passing Reading</th>\n",
              "      <th>% Overall Passing</th>\n",
              "      <th>School Size</th>\n",
              "    </tr>\n",
              "  </thead>\n",
              "  <tbody>\n",
              "    <tr>\n",
              "      <th>Bailey High School</th>\n",
              "      <td>77.05</td>\n",
              "      <td>81.03</td>\n",
              "      <td>66.68</td>\n",
              "      <td>81.93</td>\n",
              "      <td>54.64</td>\n",
              "      <td>Large (2000-5000)</td>\n",
              "    </tr>\n",
              "    <tr>\n",
              "      <th>Johnson High School</th>\n",
              "      <td>77.07</td>\n",
              "      <td>80.97</td>\n",
              "      <td>66.06</td>\n",
              "      <td>81.22</td>\n",
              "      <td>53.54</td>\n",
              "      <td>Large (2000-5000)</td>\n",
              "    </tr>\n",
              "    <tr>\n",
              "      <th>Hernandez High School</th>\n",
              "      <td>77.29</td>\n",
              "      <td>80.93</td>\n",
              "      <td>66.75</td>\n",
              "      <td>80.86</td>\n",
              "      <td>53.53</td>\n",
              "      <td>Large (2000-5000)</td>\n",
              "    </tr>\n",
              "    <tr>\n",
              "      <th>Rodriguez High School</th>\n",
              "      <td>76.84</td>\n",
              "      <td>80.74</td>\n",
              "      <td>66.37</td>\n",
              "      <td>80.22</td>\n",
              "      <td>52.99</td>\n",
              "      <td>Large (2000-5000)</td>\n",
              "    </tr>\n",
              "    <tr>\n",
              "      <th>Figueroa High School</th>\n",
              "      <td>76.71</td>\n",
              "      <td>81.16</td>\n",
              "      <td>65.99</td>\n",
              "      <td>80.74</td>\n",
              "      <td>53.20</td>\n",
              "      <td>Large (2000-5000)</td>\n",
              "    </tr>\n",
              "  </tbody>\n",
              "</table>\n",
              "</div>"
            ],
            "text/plain": [
              "                       Average Math Score  ...        School Size\n",
              "Bailey High School                  77.05  ...  Large (2000-5000)\n",
              "Johnson High School                 77.07  ...  Large (2000-5000)\n",
              "Hernandez High School               77.29  ...  Large (2000-5000)\n",
              "Rodriguez High School               76.84  ...  Large (2000-5000)\n",
              "Figueroa High School                76.71  ...  Large (2000-5000)\n",
              "\n",
              "[5 rows x 6 columns]"
            ]
          },
          "metadata": {
            "tags": []
          },
          "execution_count": 360
        }
      ]
    },
    {
      "cell_type": "code",
      "metadata": {
        "id": "MiruxXeBWcqM",
        "colab_type": "code",
        "colab": {
          "base_uri": "https://localhost:8080/",
          "height": 316
        },
        "outputId": "475c172b-ca24-436f-be65-4e44a9554aff"
      },
      "source": [
        "#Create goup based on bins\n",
        "size_df = size_df.groupby(\"School Size\")\n",
        "size_df"
      ],
      "execution_count": 364,
      "outputs": [
        {
          "output_type": "error",
          "ename": "AttributeError",
          "evalue": "ignored",
          "traceback": [
            "\u001b[0;31m---------------------------------------------------------------------------\u001b[0m",
            "\u001b[0;31mAttributeError\u001b[0m                            Traceback (most recent call last)",
            "\u001b[0;32m<ipython-input-364-ecc44a46430f>\u001b[0m in \u001b[0;36m<module>\u001b[0;34m()\u001b[0m\n\u001b[1;32m      1\u001b[0m \u001b[0;31m#Create goup based on bins\u001b[0m\u001b[0;34m\u001b[0m\u001b[0;34m\u001b[0m\u001b[0;34m\u001b[0m\u001b[0m\n\u001b[0;32m----> 2\u001b[0;31m \u001b[0msize_df\u001b[0m \u001b[0;34m=\u001b[0m \u001b[0msize_df\u001b[0m\u001b[0;34m.\u001b[0m\u001b[0mgroupby\u001b[0m\u001b[0;34m(\u001b[0m\u001b[0;34m\"School Size\"\u001b[0m\u001b[0;34m)\u001b[0m\u001b[0;34m\u001b[0m\u001b[0;34m\u001b[0m\u001b[0m\n\u001b[0m\u001b[1;32m      3\u001b[0m \u001b[0msize_df\u001b[0m\u001b[0;34m\u001b[0m\u001b[0;34m\u001b[0m\u001b[0m\n",
            "\u001b[0;32m/usr/local/lib/python3.6/dist-packages/pandas/core/groupby/groupby.py\u001b[0m in \u001b[0;36m__getattr__\u001b[0;34m(self, attr)\u001b[0m\n\u001b[1;32m    579\u001b[0m \u001b[0;34m\u001b[0m\u001b[0m\n\u001b[1;32m    580\u001b[0m         raise AttributeError(\n\u001b[0;32m--> 581\u001b[0;31m             \u001b[0;34mf\"'{type(self).__name__}' object has no attribute '{attr}'\"\u001b[0m\u001b[0;34m\u001b[0m\u001b[0;34m\u001b[0m\u001b[0m\n\u001b[0m\u001b[1;32m    582\u001b[0m         )\n\u001b[1;32m    583\u001b[0m \u001b[0;34m\u001b[0m\u001b[0m\n",
            "\u001b[0;31mAttributeError\u001b[0m: 'DataFrameGroupBy' object has no attribute 'groupby'"
          ]
        }
      ]
    },
    {
      "cell_type": "markdown",
      "metadata": {
        "id": "KgxL-QVCWtaN",
        "colab_type": "text"
      },
      "source": [
        "## **Scores by School Type**\n",
        "Create a table that breaks down school performances based on average School Size. Use 4 reasonable bins to group school spending. Include in the table each of the following:\n",
        "\n",
        "* Average Math Score\n",
        "* Average Reading Score\n",
        "* % Passing Math\n",
        "* % Passing Reading\n",
        "* Overall Passing Rate (Average of the above two)"
      ]
    },
    {
      "cell_type": "code",
      "metadata": {
        "id": "P1Wcbc_UW05K",
        "colab_type": "code",
        "colab": {
          "base_uri": "https://localhost:8080/",
          "height": 514
        },
        "outputId": "97cae8a6-aa85-45ac-da12-9c51fce30d10"
      },
      "source": [
        "#Create dataframe\n",
        "type_df_1 = school_df[[\"Average Math Score\",\n",
        "                                  \"Average Reading Score\",\"% Passing Math\",\n",
        "                                  \"% Passing Reading\",\"% Overall Passing\"]]\n",
        "\n",
        "type_df = pd.DataFrame(type_df_1)\n",
        "\n",
        "type_df"
      ],
      "execution_count": 365,
      "outputs": [
        {
          "output_type": "execute_result",
          "data": {
            "text/html": [
              "<div>\n",
              "<style scoped>\n",
              "    .dataframe tbody tr th:only-of-type {\n",
              "        vertical-align: middle;\n",
              "    }\n",
              "\n",
              "    .dataframe tbody tr th {\n",
              "        vertical-align: top;\n",
              "    }\n",
              "\n",
              "    .dataframe thead th {\n",
              "        text-align: right;\n",
              "    }\n",
              "</style>\n",
              "<table border=\"1\" class=\"dataframe\">\n",
              "  <thead>\n",
              "    <tr style=\"text-align: right;\">\n",
              "      <th></th>\n",
              "      <th>Average Math Score</th>\n",
              "      <th>Average Reading Score</th>\n",
              "      <th>% Passing Math</th>\n",
              "      <th>% Passing Reading</th>\n",
              "      <th>% Overall Passing</th>\n",
              "    </tr>\n",
              "  </thead>\n",
              "  <tbody>\n",
              "    <tr>\n",
              "      <th>Bailey High School</th>\n",
              "      <td>77.05</td>\n",
              "      <td>81.03</td>\n",
              "      <td>66.68</td>\n",
              "      <td>81.93</td>\n",
              "      <td>54.64</td>\n",
              "    </tr>\n",
              "    <tr>\n",
              "      <th>Johnson High School</th>\n",
              "      <td>77.07</td>\n",
              "      <td>80.97</td>\n",
              "      <td>66.06</td>\n",
              "      <td>81.22</td>\n",
              "      <td>53.54</td>\n",
              "    </tr>\n",
              "    <tr>\n",
              "      <th>Hernandez High School</th>\n",
              "      <td>77.29</td>\n",
              "      <td>80.93</td>\n",
              "      <td>66.75</td>\n",
              "      <td>80.86</td>\n",
              "      <td>53.53</td>\n",
              "    </tr>\n",
              "    <tr>\n",
              "      <th>Rodriguez High School</th>\n",
              "      <td>76.84</td>\n",
              "      <td>80.74</td>\n",
              "      <td>66.37</td>\n",
              "      <td>80.22</td>\n",
              "      <td>52.99</td>\n",
              "    </tr>\n",
              "    <tr>\n",
              "      <th>Figueroa High School</th>\n",
              "      <td>76.71</td>\n",
              "      <td>81.16</td>\n",
              "      <td>65.99</td>\n",
              "      <td>80.74</td>\n",
              "      <td>53.20</td>\n",
              "    </tr>\n",
              "    <tr>\n",
              "      <th>Huang High School</th>\n",
              "      <td>76.63</td>\n",
              "      <td>81.18</td>\n",
              "      <td>65.68</td>\n",
              "      <td>81.32</td>\n",
              "      <td>53.51</td>\n",
              "    </tr>\n",
              "    <tr>\n",
              "      <th>Ford High School</th>\n",
              "      <td>77.10</td>\n",
              "      <td>80.75</td>\n",
              "      <td>68.31</td>\n",
              "      <td>79.30</td>\n",
              "      <td>54.29</td>\n",
              "    </tr>\n",
              "    <tr>\n",
              "      <th>Wilson High School</th>\n",
              "      <td>83.27</td>\n",
              "      <td>83.99</td>\n",
              "      <td>93.87</td>\n",
              "      <td>96.54</td>\n",
              "      <td>90.58</td>\n",
              "    </tr>\n",
              "    <tr>\n",
              "      <th>Cabrera High School</th>\n",
              "      <td>83.06</td>\n",
              "      <td>83.98</td>\n",
              "      <td>94.13</td>\n",
              "      <td>97.04</td>\n",
              "      <td>91.33</td>\n",
              "    </tr>\n",
              "    <tr>\n",
              "      <th>Wright High School</th>\n",
              "      <td>83.68</td>\n",
              "      <td>83.96</td>\n",
              "      <td>93.33</td>\n",
              "      <td>96.61</td>\n",
              "      <td>90.33</td>\n",
              "    </tr>\n",
              "    <tr>\n",
              "      <th>Shelton High School</th>\n",
              "      <td>83.36</td>\n",
              "      <td>83.73</td>\n",
              "      <td>93.87</td>\n",
              "      <td>95.85</td>\n",
              "      <td>89.89</td>\n",
              "    </tr>\n",
              "    <tr>\n",
              "      <th>Thomas High School</th>\n",
              "      <td>83.42</td>\n",
              "      <td>83.85</td>\n",
              "      <td>93.27</td>\n",
              "      <td>97.31</td>\n",
              "      <td>90.95</td>\n",
              "    </tr>\n",
              "    <tr>\n",
              "      <th>Griffin High School</th>\n",
              "      <td>83.35</td>\n",
              "      <td>83.82</td>\n",
              "      <td>93.39</td>\n",
              "      <td>97.14</td>\n",
              "      <td>90.60</td>\n",
              "    </tr>\n",
              "    <tr>\n",
              "      <th>Pena High School</th>\n",
              "      <td>83.84</td>\n",
              "      <td>84.04</td>\n",
              "      <td>94.59</td>\n",
              "      <td>95.95</td>\n",
              "      <td>90.54</td>\n",
              "    </tr>\n",
              "    <tr>\n",
              "      <th>Holden High School</th>\n",
              "      <td>83.80</td>\n",
              "      <td>83.81</td>\n",
              "      <td>92.51</td>\n",
              "      <td>96.25</td>\n",
              "      <td>89.23</td>\n",
              "    </tr>\n",
              "  </tbody>\n",
              "</table>\n",
              "</div>"
            ],
            "text/plain": [
              "                       Average Math Score  ...  % Overall Passing\n",
              "Bailey High School                  77.05  ...              54.64\n",
              "Johnson High School                 77.07  ...              53.54\n",
              "Hernandez High School               77.29  ...              53.53\n",
              "Rodriguez High School               76.84  ...              52.99\n",
              "Figueroa High School                76.71  ...              53.20\n",
              "Huang High School                   76.63  ...              53.51\n",
              "Ford High School                    77.10  ...              54.29\n",
              "Wilson High School                  83.27  ...              90.58\n",
              "Cabrera High School                 83.06  ...              91.33\n",
              "Wright High School                  83.68  ...              90.33\n",
              "Shelton High School                 83.36  ...              89.89\n",
              "Thomas High School                  83.42  ...              90.95\n",
              "Griffin High School                 83.35  ...              90.60\n",
              "Pena High School                    83.84  ...              90.54\n",
              "Holden High School                  83.80  ...              89.23\n",
              "\n",
              "[15 rows x 5 columns]"
            ]
          },
          "metadata": {
            "tags": []
          },
          "execution_count": 365
        }
      ]
    },
    {
      "cell_type": "code",
      "metadata": {
        "id": "A0FIh3fvW_Bb",
        "colab_type": "code",
        "colab": {
          "base_uri": "https://localhost:8080/",
          "height": 197
        },
        "outputId": "e9517951-a8c1-4bf0-c804-2bb35f5bc60b"
      },
      "source": [
        "# Create bins for data\n",
        "typebins = [Charter, District]\n",
        "typegroups = [\"Charter\", \"District\"]"
      ],
      "execution_count": 366,
      "outputs": [
        {
          "output_type": "error",
          "ename": "NameError",
          "evalue": "ignored",
          "traceback": [
            "\u001b[0;31m---------------------------------------------------------------------------\u001b[0m",
            "\u001b[0;31mNameError\u001b[0m                                 Traceback (most recent call last)",
            "\u001b[0;32m<ipython-input-366-86ba8fe431a3>\u001b[0m in \u001b[0;36m<module>\u001b[0;34m()\u001b[0m\n\u001b[1;32m      1\u001b[0m \u001b[0;31m# Create bins for data\u001b[0m\u001b[0;34m\u001b[0m\u001b[0;34m\u001b[0m\u001b[0;34m\u001b[0m\u001b[0m\n\u001b[0;32m----> 2\u001b[0;31m \u001b[0mtypebins\u001b[0m \u001b[0;34m=\u001b[0m \u001b[0;34m[\u001b[0m\u001b[0mCharter\u001b[0m\u001b[0;34m,\u001b[0m \u001b[0mDistrict\u001b[0m\u001b[0;34m]\u001b[0m\u001b[0;34m\u001b[0m\u001b[0;34m\u001b[0m\u001b[0m\n\u001b[0m\u001b[1;32m      3\u001b[0m \u001b[0mtypegroups\u001b[0m \u001b[0;34m=\u001b[0m \u001b[0;34m[\u001b[0m\u001b[0;34m\"Charter\"\u001b[0m\u001b[0;34m,\u001b[0m \u001b[0;34m\"District\"\u001b[0m\u001b[0;34m]\u001b[0m\u001b[0;34m\u001b[0m\u001b[0;34m\u001b[0m\u001b[0m\n",
            "\u001b[0;31mNameError\u001b[0m: name 'Charter' is not defined"
          ]
        }
      ]
    },
    {
      "cell_type": "code",
      "metadata": {
        "id": "aTs_RM3gXtxX",
        "colab_type": "code",
        "colab": {
          "base_uri": "https://localhost:8080/",
          "height": 197
        },
        "outputId": "ef9901ef-f1a4-4cff-de29-28b45c9975bd"
      },
      "source": [
        "type_df[\"School Type\"] = pd.cut(school_df[\"School Type\"], typebins, labels=typegroups, include_lowest=True)\n",
        "\n",
        "type_df.head()"
      ],
      "execution_count": 367,
      "outputs": [
        {
          "output_type": "error",
          "ename": "NameError",
          "evalue": "ignored",
          "traceback": [
            "\u001b[0;31m---------------------------------------------------------------------------\u001b[0m",
            "\u001b[0;31mNameError\u001b[0m                                 Traceback (most recent call last)",
            "\u001b[0;32m<ipython-input-367-f784945f987c>\u001b[0m in \u001b[0;36m<module>\u001b[0;34m()\u001b[0m\n\u001b[0;32m----> 1\u001b[0;31m \u001b[0mtype_df\u001b[0m\u001b[0;34m[\u001b[0m\u001b[0;34m\"School Type\"\u001b[0m\u001b[0;34m]\u001b[0m \u001b[0;34m=\u001b[0m \u001b[0mpd\u001b[0m\u001b[0;34m.\u001b[0m\u001b[0mcut\u001b[0m\u001b[0;34m(\u001b[0m\u001b[0mschool_df\u001b[0m\u001b[0;34m[\u001b[0m\u001b[0;34m\"School Type\"\u001b[0m\u001b[0;34m]\u001b[0m\u001b[0;34m,\u001b[0m \u001b[0mtypebins\u001b[0m\u001b[0;34m,\u001b[0m \u001b[0mlabels\u001b[0m\u001b[0;34m=\u001b[0m\u001b[0mtypegroups\u001b[0m\u001b[0;34m,\u001b[0m \u001b[0minclude_lowest\u001b[0m\u001b[0;34m=\u001b[0m\u001b[0;32mTrue\u001b[0m\u001b[0;34m)\u001b[0m\u001b[0;34m\u001b[0m\u001b[0;34m\u001b[0m\u001b[0m\n\u001b[0m\u001b[1;32m      2\u001b[0m \u001b[0;34m\u001b[0m\u001b[0m\n\u001b[1;32m      3\u001b[0m \u001b[0mtype_df\u001b[0m\u001b[0;34m.\u001b[0m\u001b[0mhead\u001b[0m\u001b[0;34m(\u001b[0m\u001b[0;34m)\u001b[0m\u001b[0;34m\u001b[0m\u001b[0;34m\u001b[0m\u001b[0m\n",
            "\u001b[0;31mNameError\u001b[0m: name 'typebins' is not defined"
          ]
        }
      ]
    },
    {
      "cell_type": "code",
      "metadata": {
        "id": "TltGM_ICX8Rr",
        "colab_type": "code",
        "colab": {}
      },
      "source": [
        ""
      ],
      "execution_count": null,
      "outputs": []
    }
  ]
}